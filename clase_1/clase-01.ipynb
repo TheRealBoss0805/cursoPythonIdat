{
 "cells": [
  {
   "attachments": {},
   "cell_type": "markdown",
   "metadata": {},
   "source": [
    "# Introducción al Análisis de Datos y Python\n",
    "Python es un lenguaje muy simple y tiene una sintaxis muy sencilla. Python es el lenguaje de más rápido crecimiento en la programación para el análisis de datos. Aprender Python es una excelente opción porque Python es:\n",
    "- Ampliamente adoptado en la ciencia de datos\n",
    "- Considerado como un lenguaje fácil de aprender\n",
    "- Flexible, con amplio soporte para trabajar con datos numéricos y textuales"
   ]
  },
  {
   "cell_type": "markdown",
   "metadata": {},
   "source": [
    "## Requerimientos\n",
    "- Instalar python 3.x desde su [página de descargas](https://www.python.org/downloads/)\n",
    "- Instalar Visual Studio Code desde su [página de descargas](https://code.visualstudio.com/)\n",
    "- Instalar las extensiones `python` y `jupyter` en Visual Studio Code"
   ]
  },
  {
   "attachments": {},
   "cell_type": "markdown",
   "metadata": {},
   "source": [
    "## Hola Mundo\n",
    "La directiva más simple en Python es la directiva `print()`: simplemente imprime una línea."
   ]
  },
  {
   "cell_type": "code",
   "execution_count": 2,
   "metadata": {},
   "outputs": [
    {
     "name": "stdout",
     "output_type": "stream",
     "text": [
      "hola cerdos\n"
     ]
    }
   ],
   "source": [
    "print(\"hola cerdos\")"
   ]
  },
  {
   "attachments": {},
   "cell_type": "markdown",
   "metadata": {},
   "source": [
    "## Comentarios\n",
    "Los comentarios son importantes para asegurarse de que usted y los demás puedan entender de qué se trata su código.\n",
    "\n",
    "Para agregar comentarios a su código de Python puede usar `#`, los comentarios no se ejecutan como código de Python, por lo que no influirán en su resultado."
   ]
  },
  {
   "cell_type": "code",
   "execution_count": null,
   "metadata": {},
   "outputs": [],
   "source": []
  },
  {
   "attachments": {},
   "cell_type": "markdown",
   "metadata": {},
   "source": [
    "## Tipo de Datos\n",
    "### Strings\n",
    "Los string o cadenas de texto se definen con comillas simples o dobles."
   ]
  },
  {
   "cell_type": "code",
   "execution_count": null,
   "metadata": {},
   "outputs": [],
   "source": []
  },
  {
   "attachments": {},
   "cell_type": "markdown",
   "metadata": {},
   "source": [
    "### Booleanos\n",
    "Un booleano es un tipo de dato que sólo puede tomar dos posibles valores: `True` (verdadero) o `False` (falso)."
   ]
  },
  {
   "cell_type": "code",
   "execution_count": null,
   "metadata": {},
   "outputs": [],
   "source": []
  },
  {
   "attachments": {},
   "cell_type": "markdown",
   "metadata": {},
   "source": [
    "### Números\n",
    "Python admite dos tipos de números: números enteros y reales (también admite números complejos)."
   ]
  },
  {
   "cell_type": "code",
   "execution_count": null,
   "metadata": {},
   "outputs": [],
   "source": []
  },
  {
   "cell_type": "markdown",
   "metadata": {},
   "source": [
    "<img src=\"https://raw.githubusercontent.com/Asabeneh/30-Days-Of-Python/master/images/arithmetic_operators.png\" width=\"600\" />"
   ]
  },
  {
   "attachments": {},
   "cell_type": "markdown",
   "metadata": {},
   "source": [
    "## Variables\n",
    "Las variables son uno de los dos componentes básicos de cualquier programa. En su esencia, un programa está compuesto por datos e instrucciones que manipulan esos datos. Normalmente, los datos se almacenan en memoria para que podamos acceder a ellos.\n",
    "\n",
    "Una variable es una forma de identificar, de forma sencilla, un dato que se encuentra almacenado en la memoria del ordenador."
   ]
  },
  {
   "cell_type": "code",
   "execution_count": null,
   "metadata": {},
   "outputs": [],
   "source": []
  },
  {
   "attachments": {},
   "cell_type": "markdown",
   "metadata": {},
   "source": [
    "## input()\n",
    "La función `input()` en Python funciona para posibilitar la entrada por texto por parte del usuario del programa"
   ]
  },
  {
   "cell_type": "code",
   "execution_count": null,
   "metadata": {},
   "outputs": [],
   "source": []
  },
  {
   "attachments": {},
   "cell_type": "markdown",
   "metadata": {},
   "source": [
    "## Ejercicio 1\n",
    "Hacer un programa en el que el usuario ingrese las medidas de los tres lados del triángulo y luego imprimir el perímetro(suma de los tres lados)"
   ]
  },
  {
   "cell_type": "code",
   "execution_count": null,
   "metadata": {},
   "outputs": [],
   "source": []
  },
  {
   "attachments": {},
   "cell_type": "markdown",
   "metadata": {},
   "source": [
    "## Estructuras de datos\n",
    "### Listas(Arrays)\n",
    "Una lista es una estructura de datos que puede contener más de un valor a la vez."
   ]
  },
  {
   "cell_type": "code",
   "execution_count": 13,
   "metadata": {},
   "outputs": [
    {
     "name": "stdout",
     "output_type": "stream",
     "text": [
      "['Fernando', 'Rivera', 'Masculino', 'Egresado']\n",
      "El apellido de Fernando es: Rivera\n",
      "4\n",
      "3\n",
      "['Fernando', 'Masculino', 'Egresado']\n",
      "None\n",
      "['Masculino', 'Egresado']\n"
     ]
    }
   ],
   "source": [
    "lista = [\"Fernando\", \"Rivera\", \"Masculino\", \"Egresado\",]\n",
    "print(lista)\n",
    "print(\"El apellido de Fernando es:\",lista[1])\n",
    "print(len(lista))\n",
    "lista.pop(1)\n",
    "print(len(lista))\n",
    "print(lista)\n",
    "print(lista.remove(\"Fernando\"))\n",
    "print(lista)\n"
   ]
  },
  {
   "attachments": {},
   "cell_type": "markdown",
   "metadata": {},
   "source": [
    "### Tuplas\n",
    "Las tuplas en Python son un tipo o estructura de datos que permite almacenar datos de una manera muy parecida a las listas, con la salvedad de que son `inmutables`."
   ]
  },
  {
   "cell_type": "code",
   "execution_count": null,
   "metadata": {},
   "outputs": [],
   "source": [
    "tupla = (\"Fernando\", \"Rivera\", 1.71, 70)\n",
    "tupla = (\"THE BIGPIG\")\n",
    "print(tupla)\n",
    "#lista[3] = 25  # Si se puede modificar\n",
    "#tupla[3] = 25  # No se puede modificar, para mostrarlo de igual manera va con corchetes\n",
    "#print(lista)"
   ]
  },
  {
   "attachments": {},
   "cell_type": "markdown",
   "metadata": {},
   "source": [
    "### Sets\n",
    "Un Set es una colección desordenada de elementos que no se repiten. Esto significa que todos los elementos de un Set deben ser distinto."
   ]
  },
  {
   "cell_type": "code",
   "execution_count": null,
   "metadata": {},
   "outputs": [],
   "source": [
    "#CREANDO UN CONJUNTO (SET)\n",
    "conjunto = {\"Fernando\", \"Rivera\", 1.71, True, 70} #no se puede ingresar por un índice\n",
    "#tampoco se pueden repetir valores\n",
    "#es necesario si o si un bucle para recorrer los elementos\n",
    "#print(conjunto[3]) no es posible\n",
    "conjunto = {\"THE BOSS\"} #LO RENICIA COMPLETAMENTE\n",
    "print(conjunto) "
   ]
  },
  {
   "attachments": {},
   "cell_type": "markdown",
   "metadata": {},
   "source": [
    "### Diccionarios\n",
    "Un diccionario en Python es una colección de elementos, donde cada uno tiene una llave `key` y un valor `value`. Los diccionarios se crean con paréntesis `{}` separando con una coma cada par `key: value`. En el siguiente ejemplo tenemos tres keys que son el nombre, la edad y el documento."
   ]
  },
  {
   "cell_type": "code",
   "execution_count": 31,
   "metadata": {},
   "outputs": [
    {
     "name": "stdout",
     "output_type": "stream",
     "text": [
      "apellido: \t  RIVERA\n",
      "apellido: \t  ['python', 'Programacion Web']\n",
      "apellido: \t  python\n",
      "apellido: \t  ['python', 'Programacion Web']\n",
      "apellido: \t  {'distrito': 'SJM', 'codigo_posal': '015151', 'direccion_legal': 'Calle las Américas'}\n",
      "apellido: \t  SJM\n"
     ]
    }
   ],
   "source": [
    "estudiante_idat = {\n",
    "    \"nombre\": 'FERNANDO',\n",
    "    \"apellido\": 'RIVERA',\n",
    "    \"edad\": 25,\n",
    "    \"es_mayor_edad\": True,\n",
    "    \"cursos\": [\"python\", \"Programacion Web\"],\n",
    "    \"direccion\": {\n",
    "        \"distrito\": 'SJM',\n",
    "        \"codigo_posal\": '015151',\n",
    "        \"direccion_legal\": 'Calle las Américas'\n",
    "    }\n",
    "}\n",
    "\n",
    "print(\"apellido: \\t \", estudiante_idat[\"apellido\"])\n",
    "print(\"apellido: \\t \", estudiante_idat[\"cursos\"])\n",
    "print(\"apellido: \\t \", estudiante_idat[\"cursos\"][0])\n",
    "print(\"apellido: \\t \", estudiante_idat.get(\"cursos\"))\n",
    "print(\"apellido: \\t \", estudiante_idat[\"direccion\"])\n",
    "print(\"apellido: \\t \", estudiante_idat[\"direccion\"][\"distrito\"])"
   ]
  },
  {
   "attachments": {},
   "cell_type": "markdown",
   "metadata": {},
   "source": [
    "## Condicionales\n",
    "Se usa variables booleanas para evaluar las condiciones. Los valores booleanos `True` y `False` se devuelven cuando se compara o evalúa una expresión. "
   ]
  },
  {
   "cell_type": "code",
   "execution_count": 32,
   "metadata": {},
   "outputs": [
    {
     "name": "stdout",
     "output_type": "stream",
     "text": [
      "No puedes pasar\n",
      "Esta bien en latinoamerica\n"
     ]
    }
   ],
   "source": [
    "edad = 17\n",
    "\n",
    "if edad >= 18:\n",
    "    print(\"Puedes pasar\")\n",
    "else:\n",
    "    print(\"No puedes pasar\")\n",
    "    \n",
    "ingreso_mensual = 5000\n",
    "\n",
    "if ingreso_mensual > 10000:\n",
    "    print(\"Estas bien economicamente en todo el mundo\")\n",
    "elif ingreso_mensual > 1000:\n",
    "    print(\"Esta bien en latinoamerica\")\n",
    "else:\n",
    "    print(\"Eres pobre\")"
   ]
  },
  {
   "cell_type": "markdown",
   "metadata": {},
   "source": [
    "<img src=\"https://github.com/Asabeneh/30-Days-Of-Python/raw/master/images/comparison_operators.png\" width=\"600\" /> <br>\n",
    "<img src=\"https://github.com/Asabeneh/30-Days-Of-Python/raw/master/images/logical_operators.png\" width=\"600\" />"
   ]
  },
  {
   "attachments": {},
   "cell_type": "markdown",
   "metadata": {},
   "source": [
    "## Funciones\n",
    "Una función te permite definir un bloque de código reutilizable que se puede ejecutar muchas veces dentro de tu programa.\n",
    "\n",
    "Si bien Python ya proporciona muchas funciones integradas como `print()` y `len()`, también puedes definir tus propias funciones para usar en tus proyectos.\n",
    "\n",
    "Una de las grandes ventajas de usar funciones en tu código es que reduce el número total de líneas de código en tu proyecto."
   ]
  },
  {
   "cell_type": "code",
   "execution_count": 43,
   "metadata": {},
   "outputs": [
    {
     "name": "stdout",
     "output_type": "stream",
     "text": [
      "HOLA\n",
      "FERNANDO\n",
      "IDAT\n",
      "HOLA A TODOS, MI NOMBRE ES: FERNANDO\n",
      "90\n"
     ]
    },
    {
     "data": {
      "text/plain": [
       "False"
      ]
     },
     "execution_count": 43,
     "metadata": {},
     "output_type": "execute_result"
    }
   ],
   "source": [
    "#Función SIN argumentos o parámetros\n",
    "\n",
    "def printHola():\n",
    "    print(\"HOLA\")\n",
    "    print(\"FERNANDO\")\n",
    "    print(\"IDAT\")\n",
    "printHola()\n",
    "\n",
    "#Función CON argumentos o parámetros\n",
    "\n",
    "def printSaludo(nombre):\n",
    "    print(\"HOLA A TODOS, MI NOMBRE ES:\",nombre)\n",
    "printSaludo(\"FERNANDO\")\n",
    "\n",
    "def operaciones(num_1, num_2):\n",
    "    resultado = num_1 * num_2\n",
    "    return resultado\n",
    "print(operaciones(6, 15))\n",
    "\n",
    "def esProfesor(nombreProfesor):\n",
    "    if nombreProfesor == \"FERNANDO\":\n",
    "        return True\n",
    "    else:\n",
    "        return False\n",
    "    \n",
    "esProfesor(\"LUIS\")\n",
    "    \n"
   ]
  },
  {
   "attachments": {},
   "cell_type": "markdown",
   "metadata": {},
   "source": [
    "## Bucles\n",
    "El bucle for se utiliza para recorrer los elementos de un objeto iterable (lista, tupla, set, diccionario) y ejecutar un bloque de código. En cada paso de la iteración se tiene en cuenta a un único elemento del objeto iterable, sobre el cuál se pueden aplicar una serie de operaciones."
   ]
  },
  {
   "cell_type": "code",
   "execution_count": 45,
   "metadata": {},
   "outputs": [
    {
     "name": "stdout",
     "output_type": "stream",
     "text": [
      "5\n",
      "4\n",
      "3\n",
      "2\n",
      "1\n"
     ]
    }
   ],
   "source": [
    "numeros = [1, 2, 3, 4, 5]\n",
    "numeros.reverse()\n",
    "for num in numeros:\n",
    "    print(num)"
   ]
  },
  {
   "attachments": {},
   "cell_type": "markdown",
   "metadata": {},
   "source": [
    "## Ejercicio 2\n",
    "Definir una lista de numero del 1 al 10 (Lista, Tupla, Set o Diccionario)\n",
    "\n",
    "Ingresar en consola si quieren pintar(usar `print()`) números pares o impares\n",
    "\n",
    "Imprimir según lo escogido en la consola\n",
    "\n",
    "- [1 ,2, ... 10]\n",
    "- input() -> 'pares'\n",
    "- imprime 2, 4 , 6, 8, 10"
   ]
  },
  {
   "cell_type": "code",
   "execution_count": 52,
   "metadata": {},
   "outputs": [
    {
     "name": "stdout",
     "output_type": "stream",
     "text": [
      "1\n",
      "3\n",
      "5\n",
      "7\n",
      "9\n"
     ]
    }
   ],
   "source": [
    "\n",
    "\n",
    "def numeros_pares_impares(datos, tipo):\n",
    "    for num in datos:\n",
    "        if tipo == \"PAR\":\n",
    "            if num % 2 == 0:\n",
    "                print(num)\n",
    "        elif tipo == \"IMPAR\":\n",
    "            if num % 2 != 0:\n",
    "                print(num)\n",
    "    \n",
    "numeros = [1,2,3,4,5,6,7,8,9,10]\n",
    "tipo_numero = input(\"¿QUE NÚMEROS DESEA?\")\n",
    "numeros_pares_impares(numeros, tipo_numero)\n",
    "\n",
    "    "
   ]
  },
  {
   "cell_type": "markdown",
   "metadata": {},
   "source": [
    "## Módulos\n",
    "Un módulo es un fichero conteniendo definiciones y declaraciones de Python. "
   ]
  },
  {
   "cell_type": "code",
   "execution_count": 56,
   "metadata": {},
   "outputs": [
    {
     "ename": "ModuleNotFoundError",
     "evalue": "No module named 'mi_modulo'",
     "output_type": "error",
     "traceback": [
      "\u001b[1;31m---------------------------------------------------------------------------\u001b[0m",
      "\u001b[1;31mModuleNotFoundError\u001b[0m                       Traceback (most recent call last)",
      "\u001b[1;32mc:\\CursosCapacitacion\\cursoPythonIdat\\clase_1\\clase-01.ipynb Cell 38\u001b[0m line \u001b[0;36m1\n\u001b[1;32m----> <a href='vscode-notebook-cell:/c%3A/CursosCapacitacion/cursoPythonIdat/clase_1/clase-01.ipynb#X52sZmlsZQ%3D%3D?line=0'>1</a>\u001b[0m \u001b[39mimport\u001b[39;00m \u001b[39mmi_modulo\u001b[39;00m\n\u001b[0;32m      <a href='vscode-notebook-cell:/c%3A/CursosCapacitacion/cursoPythonIdat/clase_1/clase-01.ipynb#X52sZmlsZQ%3D%3D?line=2'>3</a>\u001b[0m nombre \u001b[39m=\u001b[39m \u001b[39m\"\u001b[39m\u001b[39mJuan\u001b[39m\u001b[39m\"\u001b[39m\n\u001b[0;32m      <a href='vscode-notebook-cell:/c%3A/CursosCapacitacion/cursoPythonIdat/clase_1/clase-01.ipynb#X52sZmlsZQ%3D%3D?line=3'>4</a>\u001b[0m saludo \u001b[39m=\u001b[39m mi_modulo\u001b[39m.\u001b[39msaludar(nombre)\n",
      "\u001b[1;31mModuleNotFoundError\u001b[0m: No module named 'mi_modulo'"
     ]
    }
   ],
   "source": [
    "import mi_modulo\n",
    "\n",
    "nombre = \"Juan\"\n",
    "saludo = mi_modulo.saludar(nombre)\n",
    "print(saludo)\n",
    "\n",
    "numero = 5\n",
    "resultado = mi_modulo.duplicar(numero)\n",
    "print(resultado)"
   ]
  }
 ],
 "metadata": {
  "kernelspec": {
   "display_name": "Python 3",
   "language": "python",
   "name": "python3"
  },
  "language_info": {
   "codemirror_mode": {
    "name": "ipython",
    "version": 3
   },
   "file_extension": ".py",
   "mimetype": "text/x-python",
   "name": "python",
   "nbconvert_exporter": "python",
   "pygments_lexer": "ipython3",
   "version": "3.12.0"
  },
  "orig_nbformat": 4
 },
 "nbformat": 4,
 "nbformat_minor": 2
}
