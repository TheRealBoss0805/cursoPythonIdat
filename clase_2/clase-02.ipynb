{
 "cells": [
  {
   "attachments": {},
   "cell_type": "markdown",
   "metadata": {},
   "source": [
    "# Manejo numérico con librería numpy\n",
    "NumPy es una biblioteca en Python que proporciona operaciones numéricas rápidas y\n",
    "eficientes con arrays. Se usa ampliamente en ciencia de datos para realizar operaciones\n",
    "matemáticas con grandes conjuntos de datos.\n",
    "\n",
    "## Listas de python y numpy\n",
    "Las arrays(listas) en NumPy son similares a las listas de Python, pero son más eficientes y pueden\n",
    "realizar operaciones más rápido. Las arrays en Numpy son homogéneas, lo que significa\n",
    "que solo pueden contener elementos del mismo tipo de datos, mientras que las listas de\n",
    "Python pueden contener elementos de diferentes tipos de datos. Los arrays en NumPy\n",
    "también tienen un tamaño fijo, mientras que las listas de Python no. Los arrays en Numpy\n",
    "pueden ser N dimensionales.\n",
    "\n",
    "![](https://predictivehacks.com/wp-content/uploads/2020/08/numpy_arrays-1024x572.png)"
   ]
  },
  {
   "attachments": {},
   "cell_type": "markdown",
   "metadata": {},
   "source": [
    "## Instalación de numpy"
   ]
  },
  {
   "cell_type": "code",
   "execution_count": 1,
   "metadata": {},
   "outputs": [
    {
     "name": "stdout",
     "output_type": "stream",
     "text": [
      "Collecting numpy\n",
      "  Obtaining dependency information for numpy from https://files.pythonhosted.org/packages/32/95/908d0caa051beae4f7c77652dbbeb781e7b717f3040c5c5fcaed4d3ed08f/numpy-1.26.1-cp312-cp312-win_amd64.whl.metadata\n",
      "  Downloading numpy-1.26.1-cp312-cp312-win_amd64.whl.metadata (61 kB)\n",
      "     ---------------------------------------- 0.0/61.2 kB ? eta -:--:--\n",
      "     ------------ ------------------------- 20.5/61.2 kB 320.0 kB/s eta 0:00:01\n",
      "     ------------------------------- ------ 51.2/61.2 kB 435.7 kB/s eta 0:00:01\n",
      "     -------------------------------------- 61.2/61.2 kB 324.6 kB/s eta 0:00:00\n",
      "Downloading numpy-1.26.1-cp312-cp312-win_amd64.whl (15.5 MB)\n",
      "   ---------------------------------------- 0.0/15.5 MB ? eta -:--:--\n",
      "   ---------------------------------------- 0.1/15.5 MB 1.7 MB/s eta 0:00:09\n",
      "   ------------ --------------------------- 4.8/15.5 MB 50.7 MB/s eta 0:00:01\n",
      "   -------------------------- ------------- 10.3/15.5 MB 81.8 MB/s eta 0:00:01\n",
      "   ---------------------------------------  15.4/15.5 MB 110.0 MB/s eta 0:00:01\n",
      "   ---------------------------------------  15.5/15.5 MB 110.0 MB/s eta 0:00:01\n",
      "   ---------------------------------------  15.5/15.5 MB 110.0 MB/s eta 0:00:01\n",
      "   ---------------------------------------  15.5/15.5 MB 110.0 MB/s eta 0:00:01\n",
      "   ---------------------------------------  15.5/15.5 MB 110.0 MB/s eta 0:00:01\n",
      "   ---------------------------------------- 15.5/15.5 MB 36.4 MB/s eta 0:00:00\n",
      "Installing collected packages: numpy\n",
      "Successfully installed numpy-1.26.1\n",
      "Note: you may need to restart the kernel to use updated packages.\n"
     ]
    },
    {
     "name": "stderr",
     "output_type": "stream",
     "text": [
      "\n",
      "[notice] A new release of pip is available: 23.2.1 -> 23.3.1\n",
      "[notice] To update, run: python.exe -m pip install --upgrade pip\n"
     ]
    }
   ],
   "source": [
    "pip install numpy"
   ]
  },
  {
   "attachments": {},
   "cell_type": "markdown",
   "metadata": {},
   "source": [
    "### CREACIÓN DE UN ARRAY EN NUMPY\n",
    "\n"
   ]
  },
  {
   "cell_type": "code",
   "execution_count": 26,
   "metadata": {},
   "outputs": [
    {
     "name": "stdout",
     "output_type": "stream",
     "text": [
      "a: [1 2 3 4 5 6]\n",
      "b: [0 0]\n",
      "c: [1 1 1 1 1 1]\n",
      "d: [0.82088983 0.66333339 0.60487212]\n",
      "e: [ 0  5 10]\n",
      "f: [ 1.   2.5  4.   5.5  7.   8.5 10. ]\n"
     ]
    }
   ],
   "source": [
    "import numpy as np\n",
    "\n",
    "a = np.array([1,2,3,4,5,6])\n",
    "print(\"a:\",a)\n",
    "\n",
    "b = np.zeros(2, dtype=int)\n",
    "print(\"b:\",b)\n",
    "\n",
    "c = np.ones(6, dtype=int)\n",
    "print(\"c:\",c)\n",
    "\n",
    "d = np.random.rand(3)\n",
    "print(\"d:\",d)\n",
    "\n",
    "e = np.arange(0, 11, step = 5)\n",
    "print(\"e:\",e)\n",
    "\n",
    "f = np.linspace(1, 10, 7)\n",
    "print(\"f:\",f)"
   ]
  },
  {
   "cell_type": "code",
   "execution_count": 22,
   "metadata": {},
   "outputs": [
    {
     "name": "stdout",
     "output_type": "stream",
     "text": [
      "(2, 3)\n"
     ]
    }
   ],
   "source": [
    "g = np.array([[1,2,3],[2,4,6]]) #IGAL A MATRIX()\n",
    "print(g.shape)"
   ]
  },
  {
   "attachments": {},
   "cell_type": "markdown",
   "metadata": {},
   "source": [
    "### DIMENSIÓN Y REDIMENSIONAMIENTO\n"
   ]
  },
  {
   "cell_type": "code",
   "execution_count": 29,
   "metadata": {},
   "outputs": [
    {
     "name": "stdout",
     "output_type": "stream",
     "text": [
      "[[1 2 3]\n",
      " [4 5 6]]\n"
     ]
    }
   ],
   "source": [
    "h = a.reshape(2,3)\n",
    "print(h)"
   ]
  },
  {
   "cell_type": "code",
   "execution_count": 30,
   "metadata": {},
   "outputs": [
    {
     "data": {
      "text/plain": [
       "array([1, 2, 3, 4, 5, 6])"
      ]
     },
     "execution_count": 30,
     "metadata": {},
     "output_type": "execute_result"
    }
   ],
   "source": [
    "h.flatten()"
   ]
  },
  {
   "cell_type": "code",
   "execution_count": 32,
   "metadata": {},
   "outputs": [
    {
     "data": {
      "text/plain": [
       "(3, 2)"
      ]
     },
     "execution_count": 32,
     "metadata": {},
     "output_type": "execute_result"
    }
   ],
   "source": [
    "i = h.transpose()\n",
    "i.shape"
   ]
  },
  {
   "attachments": {},
   "cell_type": "markdown",
   "metadata": {},
   "source": [
    "### EXPANDIR Y COMPRIMIR ARRAYS"
   ]
  },
  {
   "cell_type": "code",
   "execution_count": 36,
   "metadata": {},
   "outputs": [
    {
     "name": "stdout",
     "output_type": "stream",
     "text": [
      "a: [1 2 3 4 5 6]\n",
      "a_expandido: [[1]\n",
      " [2]\n",
      " [3]\n",
      " [4]\n",
      " [5]\n",
      " [6]]\n"
     ]
    },
    {
     "data": {
      "text/plain": [
       "(6, 1)"
      ]
     },
     "execution_count": 36,
     "metadata": {},
     "output_type": "execute_result"
    }
   ],
   "source": [
    "#EXPANSIÓN\n",
    "print(\"a:\",a)\n",
    "a_expandido = np.expand_dims(a, axis = 1)\n",
    "print(\"a_expandido:\",a_expandido)\n",
    "a_expandido.shape\n",
    "\n",
    "#COMPRESION\n",
    "#np.squeeze(\"\")"
   ]
  },
  {
   "attachments": {},
   "cell_type": "markdown",
   "metadata": {},
   "source": [
    "### INDICES Y SLICE\n",
    "![](https://scipy-lectures.org/_images/numpy_indexing.png)"
   ]
  },
  {
   "cell_type": "code",
   "execution_count": 39,
   "metadata": {},
   "outputs": [
    {
     "data": {
      "text/plain": [
       "array([ 10,  20,  30,  40,  50,  60,  70,  80,  90, 100, 110, 120])"
      ]
     },
     "execution_count": 39,
     "metadata": {},
     "output_type": "execute_result"
    }
   ],
   "source": [
    "#[inicio,fin,pasos]\n",
    "#[start,end,steps]\n",
    "array_ej_1 = np.array([10,20,30,40,50,60,70,80,90,100,110,120])\n",
    "#array_ej_1 = []\n",
    "array_ej_1"
   ]
  },
  {
   "cell_type": "code",
   "execution_count": null,
   "metadata": {},
   "outputs": [],
   "source": []
  },
  {
   "attachments": {},
   "cell_type": "markdown",
   "metadata": {},
   "source": [
    "### APILAR Y CONCATENAR"
   ]
  },
  {
   "cell_type": "code",
   "execution_count": null,
   "metadata": {},
   "outputs": [],
   "source": []
  },
  {
   "attachments": {},
   "cell_type": "markdown",
   "metadata": {},
   "source": [
    "### BROADCASTING\n",
    "Es una característica poderosa en NumPy que nos permite realizar operaciones aritméticas\n",
    "en matrices de diferentes dimensiones."
   ]
  },
  {
   "cell_type": "code",
   "execution_count": null,
   "metadata": {},
   "outputs": [],
   "source": []
  },
  {
   "attachments": {},
   "cell_type": "markdown",
   "metadata": {},
   "source": [
    "### UNIVERSAL FUNCTIONS\n",
    "NumPy proporciona una amplia gama de funciones universales que se pueden aplicar los\n",
    "arrays para realizar operaciones matemáticas. Algunas funciones son:\n",
    "\n",
    "- `np.add`: suma dos arrays por elementos\n",
    "- `np.subtract`: resta dos arrays por elementos\n",
    "- `np.multiply`: multiplica dos arrays por elementos\n",
    "- `np.divide`: divide dos arrays por elementos\n",
    "- `np.abs`: calcula el valor absoluto de un array\n",
    "- `np.sin`: calcula el seno de un array\n",
    "- `np.cos`: calcula el coseno de un array\n",
    "- `np.exp`: calcula el exponente de un array"
   ]
  },
  {
   "cell_type": "code",
   "execution_count": null,
   "metadata": {},
   "outputs": [],
   "source": []
  },
  {
   "attachments": {},
   "cell_type": "markdown",
   "metadata": {},
   "source": [
    "### FUNCIONES MATEMÁTICAS\n",
    "NumPy proporciona muchas funciones para realizar operaciones matemáticas en arrays:\n",
    "\n",
    "- `np.mean`: calcula la media de un array\n",
    "- `np.median`: calcula la mediana de un array\n",
    "- `np.std`: calcula la desviación estándar de un array\n",
    "- `np.min`: calcula el valor mínimo de un array\n",
    "- `np.max`: calcula el valor máximo de un array\n",
    "- `np.argmin`: Calcula el índice del valor mínimo de un array\n",
    "- `np.argmax`: Calcula el índice del valor máximo de un array\n",
    "- `np.sort`: Ordena un array en orden ascendente\n"
   ]
  },
  {
   "cell_type": "code",
   "execution_count": null,
   "metadata": {},
   "outputs": [],
   "source": [
    "\n"
   ]
  },
  {
   "attachments": {},
   "cell_type": "markdown",
   "metadata": {},
   "source": [
    "## Ejercicios:\n",
    "1.- Cree un array en NumPy de 10 ceros."
   ]
  },
  {
   "cell_type": "code",
   "execution_count": null,
   "metadata": {},
   "outputs": [],
   "source": []
  },
  {
   "attachments": {},
   "cell_type": "markdown",
   "metadata": {},
   "source": [
    "2.- Cree un array en NumPy de 10 unos."
   ]
  },
  {
   "cell_type": "code",
   "execution_count": null,
   "metadata": {},
   "outputs": [],
   "source": []
  },
  {
   "attachments": {},
   "cell_type": "markdown",
   "metadata": {},
   "source": [
    "3.- Cree un array NumPy de 10 números aleatorios entre 0 y 1."
   ]
  },
  {
   "cell_type": "code",
   "execution_count": null,
   "metadata": {},
   "outputs": [],
   "source": []
  },
  {
   "attachments": {},
   "cell_type": "markdown",
   "metadata": {},
   "source": [
    "4.- Cree un array NumPy de 10 números espaciados uniformemente entre 0 y 1."
   ]
  },
  {
   "cell_type": "code",
   "execution_count": null,
   "metadata": {},
   "outputs": [],
   "source": []
  },
  {
   "attachments": {},
   "cell_type": "markdown",
   "metadata": {},
   "source": [
    "5.- Obtenga las dimensiones y la forma de la matriz NumPy de la pregunta 3. "
   ]
  },
  {
   "cell_type": "code",
   "execution_count": null,
   "metadata": {},
   "outputs": [],
   "source": []
  },
  {
   "attachments": {},
   "cell_type": "markdown",
   "metadata": {},
   "source": [
    "6.- Modifique la matriz NumPy de la pregunta 3 en un 2x5 matriz. "
   ]
  },
  {
   "cell_type": "code",
   "execution_count": null,
   "metadata": {},
   "outputs": [],
   "source": []
  },
  {
   "attachments": {},
   "cell_type": "markdown",
   "metadata": {},
   "source": [
    "7.- Aplane la matriz NumPy de la pregunta 3. "
   ]
  },
  {
   "cell_type": "code",
   "execution_count": null,
   "metadata": {},
   "outputs": [],
   "source": []
  },
  {
   "attachments": {},
   "cell_type": "markdown",
   "metadata": {},
   "source": [
    "8.- Transponga la matriz NumPy de la pregunta 3. "
   ]
  },
  {
   "cell_type": "code",
   "execution_count": null,
   "metadata": {},
   "outputs": [],
   "source": []
  },
  {
   "attachments": {},
   "cell_type": "markdown",
   "metadata": {},
   "source": [
    "9.- Expanda la matriz NumPy de la pregunta 3 agregando una nueva dimensión."
   ]
  },
  {
   "cell_type": "code",
   "execution_count": null,
   "metadata": {},
   "outputs": [],
   "source": []
  },
  {
   "attachments": {},
   "cell_type": "markdown",
   "metadata": {},
   "source": [
    "10.- Comprima la matriz NumPy de la pregunta 9."
   ]
  },
  {
   "cell_type": "code",
   "execution_count": null,
   "metadata": {},
   "outputs": [],
   "source": []
  },
  {
   "attachments": {},
   "cell_type": "markdown",
   "metadata": {},
   "source": [
    "11.- Cree en NumPy un array de números 10 aleatorios enteros entre 0 y 100."
   ]
  },
  {
   "cell_type": "code",
   "execution_count": null,
   "metadata": {},
   "outputs": [],
   "source": []
  },
  {
   "attachments": {},
   "cell_type": "markdown",
   "metadata": {},
   "source": [
    "12.- Corte el array NumPy de la pregunta 11 para obtener los elementos en el índice 2,\n",
    "5 y 8."
   ]
  },
  {
   "cell_type": "code",
   "execution_count": null,
   "metadata": {},
   "outputs": [],
   "source": []
  },
  {
   "attachments": {},
   "cell_type": "markdown",
   "metadata": {},
   "source": [
    "13.- Cree una matriz de 2 x 5 de números enteros aleatorios entre 0 y 100."
   ]
  },
  {
   "cell_type": "code",
   "execution_count": null,
   "metadata": {},
   "outputs": [],
   "source": []
  },
  {
   "attachments": {},
   "cell_type": "markdown",
   "metadata": {},
   "source": [
    "14.- Corte la matriz de la pregunta 13 para obtener los elementos de la segunda fila. "
   ]
  },
  {
   "cell_type": "code",
   "execution_count": null,
   "metadata": {},
   "outputs": [],
   "source": []
  },
  {
   "attachments": {},
   "cell_type": "markdown",
   "metadata": {},
   "source": [
    "15.- Una las matrices NumPy de las preguntas 11 y 13 a lo largo del eje vertical."
   ]
  },
  {
   "cell_type": "code",
   "execution_count": null,
   "metadata": {},
   "outputs": [],
   "source": []
  },
  {
   "attachments": {},
   "cell_type": "markdown",
   "metadata": {},
   "source": [
    "16.- Cree una matriz de `shape (3,3,3)` de números enteros aleatorios entre 0 y 100.\n"
   ]
  },
  {
   "cell_type": "code",
   "execution_count": null,
   "metadata": {},
   "outputs": [],
   "source": []
  },
  {
   "attachments": {},
   "cell_type": "markdown",
   "metadata": {},
   "source": [
    "17.- Corte la matriz de la pregunta 16 para obtener los elementos en el segundo plano,\n",
    "la primera fila y la tercera columna. "
   ]
  },
  {
   "cell_type": "code",
   "execution_count": null,
   "metadata": {},
   "outputs": [],
   "source": []
  },
  {
   "attachments": {},
   "cell_type": "markdown",
   "metadata": {},
   "source": [
    "18.- Realice sumas, restas, multiplicaciones y divisiones por elementos en la matriz\n",
    "NumPy de la pregunta 11 y la matriz de la pregunta 13. "
   ]
  },
  {
   "cell_type": "code",
   "execution_count": null,
   "metadata": {},
   "outputs": [],
   "source": []
  },
  {
   "attachments": {},
   "cell_type": "markdown",
   "metadata": {},
   "source": [
    "19.- Calcule la media, la mediana y la desviación estándar de la matriz NumPy de la\n",
    "pregunta 11."
   ]
  },
  {
   "cell_type": "code",
   "execution_count": null,
   "metadata": {},
   "outputs": [],
   "source": []
  },
  {
   "attachments": {},
   "cell_type": "markdown",
   "metadata": {},
   "source": [
    "20.- Encuentre los valores mínimo y máximo y sus índices en la matriz NumPy de la\n",
    "pregunta 11."
   ]
  },
  {
   "cell_type": "code",
   "execution_count": null,
   "metadata": {},
   "outputs": [],
   "source": []
  },
  {
   "attachments": {},
   "cell_type": "markdown",
   "metadata": {},
   "source": [
    "21.- Cree una matriz NumPy de 10 enteros aleatorios entre 0 y 100 y reemplace todos\n",
    "los números pares con 0. "
   ]
  },
  {
   "cell_type": "code",
   "execution_count": null,
   "metadata": {},
   "outputs": [],
   "source": []
  },
  {
   "attachments": {},
   "cell_type": "markdown",
   "metadata": {},
   "source": [
    "22.- Cree una matriz de 5x5 de enteros aleatorios entre 0 y 100 y reemplace todos los\n",
    "elementos que son divisibles por 3 con 0."
   ]
  },
  {
   "cell_type": "code",
   "execution_count": null,
   "metadata": {},
   "outputs": [],
   "source": []
  },
  {
   "attachments": {},
   "cell_type": "markdown",
   "metadata": {},
   "source": [
    "23.- Realice funciones trigonométricas por elementos (sen, cos, tan) en la matriz\n",
    "NumPy de la pregunta 1."
   ]
  },
  {
   "cell_type": "code",
   "execution_count": null,
   "metadata": {},
   "outputs": [],
   "source": []
  },
  {
   "attachments": {},
   "cell_type": "markdown",
   "metadata": {},
   "source": [
    "24.- Cree una matriz de 2x5 de números enteros aleatorios entre 0 y 100 y realice\n",
    "operaciones de comparación de elementos (mayor que, menor que, igual a) con un\n",
    "valor escalar. "
   ]
  },
  {
   "cell_type": "code",
   "execution_count": null,
   "metadata": {},
   "outputs": [],
   "source": []
  },
  {
   "attachments": {},
   "cell_type": "markdown",
   "metadata": {},
   "source": [
    "25.- Cree una matriz de 3x3x3 de números enteros aleatorios entre 0 y 100 y realice\n",
    "operaciones lógicas por elementos (si es igual) con un valor escalar. "
   ]
  },
  {
   "cell_type": "code",
   "execution_count": null,
   "metadata": {},
   "outputs": [],
   "source": []
  },
  {
   "attachments": {},
   "cell_type": "markdown",
   "metadata": {},
   "source": [
    "26.- Cree un array de 10 números enteros aleatorios entre 0 y 100 y ordénelo en orden\n",
    "ascendente."
   ]
  },
  {
   "cell_type": "code",
   "execution_count": null,
   "metadata": {},
   "outputs": [],
   "source": []
  },
  {
   "attachments": {},
   "cell_type": "markdown",
   "metadata": {},
   "source": [
    "27.- Cree una matriz de 5x5 de números enteros aleatorios entre 0 y 100 y ordene las\n",
    "filas en orden ascendente."
   ]
  },
  {
   "cell_type": "code",
   "execution_count": null,
   "metadata": {},
   "outputs": [],
   "source": []
  },
  {
   "attachments": {},
   "cell_type": "markdown",
   "metadata": {},
   "source": [
    "28.- Cree una matriz de 3x3x3 de números enteros aleatorios entre 0 y 100 y ordene en\n",
    "función del axis 2 (planos) en orden ascendente."
   ]
  },
  {
   "cell_type": "code",
   "execution_count": null,
   "metadata": {},
   "outputs": [],
   "source": []
  }
 ],
 "metadata": {
  "kernelspec": {
   "display_name": "Python 3",
   "language": "python",
   "name": "python3"
  },
  "language_info": {
   "codemirror_mode": {
    "name": "ipython",
    "version": 3
   },
   "file_extension": ".py",
   "mimetype": "text/x-python",
   "name": "python",
   "nbconvert_exporter": "python",
   "pygments_lexer": "ipython3",
   "version": "3.12.0"
  },
  "orig_nbformat": 4
 },
 "nbformat": 4,
 "nbformat_minor": 2
}
