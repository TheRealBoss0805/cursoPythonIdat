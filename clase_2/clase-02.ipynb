{
 "cells": [
  {
   "attachments": {},
   "cell_type": "markdown",
   "metadata": {},
   "source": [
    "# Manejo numérico con librería numpy\n",
    "NumPy es una biblioteca en Python que proporciona operaciones numéricas rápidas y\n",
    "eficientes con arrays. Se usa ampliamente en ciencia de datos para realizar operaciones\n",
    "matemáticas con grandes conjuntos de datos.\n",
    "\n",
    "## Listas de python y numpy\n",
    "Las arrays(listas) en NumPy son similares a las listas de Python, pero son más eficientes y pueden\n",
    "realizar operaciones más rápido. Las arrays en Numpy son homogéneas, lo que significa\n",
    "que solo pueden contener elementos del mismo tipo de datos, mientras que las listas de\n",
    "Python pueden contener elementos de diferentes tipos de datos. Los arrays en NumPy\n",
    "también tienen un tamaño fijo, mientras que las listas de Python no. Los arrays en Numpy\n",
    "pueden ser N dimensionales.\n",
    "\n",
    "![](https://predictivehacks.com/wp-content/uploads/2020/08/numpy_arrays-1024x572.png)"
   ]
  },
  {
   "attachments": {},
   "cell_type": "markdown",
   "metadata": {},
   "source": [
    "## Instalación de numpy"
   ]
  },
  {
   "cell_type": "code",
   "execution_count": 1,
   "metadata": {},
   "outputs": [
    {
     "name": "stdout",
     "output_type": "stream",
     "text": [
      "Collecting numpy\n",
      "  Obtaining dependency information for numpy from https://files.pythonhosted.org/packages/32/95/908d0caa051beae4f7c77652dbbeb781e7b717f3040c5c5fcaed4d3ed08f/numpy-1.26.1-cp312-cp312-win_amd64.whl.metadata\n",
      "  Downloading numpy-1.26.1-cp312-cp312-win_amd64.whl.metadata (61 kB)\n",
      "     ---------------------------------------- 0.0/61.2 kB ? eta -:--:--\n",
      "     ------------ ------------------------- 20.5/61.2 kB 682.7 kB/s eta 0:00:01\n",
      "     -------------------------------------- 61.2/61.2 kB 821.9 kB/s eta 0:00:00\n",
      "Downloading numpy-1.26.1-cp312-cp312-win_amd64.whl (15.5 MB)\n",
      "   ---------------------------------------- 0.0/15.5 MB ? eta -:--:--\n",
      "   -- ------------------------------------- 1.1/15.5 MB 23.3 MB/s eta 0:00:01\n",
      "   --------- ------------------------------ 3.6/15.5 MB 38.0 MB/s eta 0:00:01\n",
      "   -------------- ------------------------- 5.7/15.5 MB 45.6 MB/s eta 0:00:01\n",
      "   --------------------- ------------------ 8.4/15.5 MB 44.6 MB/s eta 0:00:01\n",
      "   ----------------------------- ---------- 11.3/15.5 MB 59.5 MB/s eta 0:00:01\n",
      "   ---------------------------------- ----- 13.5/15.5 MB 59.5 MB/s eta 0:00:01\n",
      "   ---------------------------------------  15.5/15.5 MB 59.5 MB/s eta 0:00:01\n",
      "   ---------------------------------------- 15.5/15.5 MB 46.7 MB/s eta 0:00:00\n",
      "Installing collected packages: numpy\n",
      "Successfully installed numpy-1.26.1\n",
      "Note: you may need to restart the kernel to use updated packages.\n"
     ]
    },
    {
     "name": "stderr",
     "output_type": "stream",
     "text": [
      "  WARNING: The script f2py.exe is installed in 'c:\\Users\\jose2\\AppData\\Local\\Programs\\Python\\Python312\\Scripts' which is not on PATH.\n",
      "  Consider adding this directory to PATH or, if you prefer to suppress this warning, use --no-warn-script-location.\n",
      "\n",
      "[notice] A new release of pip is available: 23.2.1 -> 23.3.1\n",
      "[notice] To update, run: python.exe -m pip install --upgrade pip\n"
     ]
    }
   ],
   "source": [
    "pip install numpy"
   ]
  },
  {
   "cell_type": "code",
   "execution_count": 2,
   "metadata": {},
   "outputs": [
    {
     "data": {
      "text/plain": [
       "array([3, 4, 5])"
      ]
     },
     "execution_count": 2,
     "metadata": {},
     "output_type": "execute_result"
    }
   ],
   "source": [
    "import numpy as np\n",
    "np.__version__\n",
    "\n",
    "[1,2,3] * 2\n",
    "np.array([1,2,3]) * 2\n",
    "np.array([1,2,3]) + 2 #SIEMPRE EJECUTA EL ÚLTIMO"
   ]
  },
  {
   "attachments": {},
   "cell_type": "markdown",
   "metadata": {},
   "source": [
    "### CREACIÓN DE UN ARRAY EN NUMPY\n",
    "\n"
   ]
  },
  {
   "cell_type": "code",
   "execution_count": 15,
   "metadata": {},
   "outputs": [
    {
     "name": "stdout",
     "output_type": "stream",
     "text": [
      "a: [1 2 3 4 5 6]\n",
      "b: [0 0]\n",
      "c: [1. 1. 1. 1. 1. 1.]\n",
      "d: [0.62610653 0.97094519 0.42353567]\n",
      "e: [ 0  5 10]\n",
      "f: [ 1.   2.5  4.   5.5  7.   8.5 10. ]\n"
     ]
    }
   ],
   "source": [
    "a = np.array([1, 2, 3, 4, 5, 6])\n",
    "print(\"a:\", a)\n",
    "\n",
    "b = np.zeros(2, dtype=int) #1er parametro, cantidad, 2do parametro, tipo de dato\n",
    "print(\"b:\", b)\n",
    "\n",
    "c = np.ones(6, dtype=float)\n",
    "print(\"c:\", c)\n",
    "\n",
    "d = np.random.rand(3)\n",
    "print(\"d:\", d)\n",
    "\n",
    "e = np.arange(0, 11, step=5)\n",
    "print(\"e:\", e)\n",
    "\n",
    "f = np.linspace(1, 10, 7) #inicio, fin, cantidad de números\n",
    "print(\"f:\", f)"
   ]
  },
  {
   "cell_type": "code",
   "execution_count": 16,
   "metadata": {},
   "outputs": [
    {
     "name": "stdout",
     "output_type": "stream",
     "text": [
      "[[1 2 3]\n",
      " [2 4 6]]\n",
      "(2, 3)\n"
     ]
    }
   ],
   "source": [
    "g = np.array([[1,2,3],[2,4,6]]) #IGAL A MATRIX() //sin embargo, este obliga a que sea si o si de 2 dimsensiones\n",
    "print(g)\n",
    "print(g.shape)"
   ]
  },
  {
   "attachments": {},
   "cell_type": "markdown",
   "metadata": {},
   "source": [
    "### DIMENSIÓN Y REDIMENSIONAMIENTO\n"
   ]
  },
  {
   "cell_type": "code",
   "execution_count": 73,
   "metadata": {},
   "outputs": [
    {
     "name": "stdout",
     "output_type": "stream",
     "text": [
      "[1 2 3 4 5 6]\n",
      "[[1 2]\n",
      " [3 4]\n",
      " [5 6]]\n"
     ]
    }
   ],
   "source": [
    "h_prima = a\n",
    "h = a.reshape(3,2) #\"a\" era de 1 dimension, pero ahora lo estamos cambiando a 2 dimensiones\n",
    "print(h_prima)\n",
    "print(h)"
   ]
  },
  {
   "cell_type": "code",
   "execution_count": 30,
   "metadata": {},
   "outputs": [
    {
     "data": {
      "text/plain": [
       "array([1, 2, 3, 4, 5, 6])"
      ]
     },
     "execution_count": 30,
     "metadata": {},
     "output_type": "execute_result"
    }
   ],
   "source": [
    "h.flatten() #\"h\" estaba en 2 dimensiones, pero ahora con flatten lo ponemos en una dimension, NO MODIFICA EL ARREGLO ORIGINAL"
   ]
  },
  {
   "cell_type": "code",
   "execution_count": 49,
   "metadata": {},
   "outputs": [
    {
     "name": "stdout",
     "output_type": "stream",
     "text": [
      "[[1 2 3]\n",
      " [4 5 6]]\n",
      "====================\n",
      "[[1 4]\n",
      " [2 5]\n",
      " [3 6]]\n",
      "====================\n"
     ]
    }
   ],
   "source": [
    "i = h.transpose()\n",
    "print(h)\n",
    "i.shape\n",
    "print(\"====================\")\n",
    "print(i) #Realiza la Transpuesta\n",
    "print(\"====================\")"
   ]
  },
  {
   "attachments": {},
   "cell_type": "markdown",
   "metadata": {},
   "source": [
    "### EXPANDIR Y COMPRIMIR ARRAYS"
   ]
  },
  {
   "cell_type": "code",
   "execution_count": 21,
   "metadata": {},
   "outputs": [
    {
     "name": "stdout",
     "output_type": "stream",
     "text": [
      "a: [1 2 3 4 5 6]\n",
      "a_expandido: [[1]\n",
      " [2]\n",
      " [3]\n",
      " [4]\n",
      " [5]\n",
      " [6]]\n"
     ]
    },
    {
     "data": {
      "text/plain": [
       "(6, 1)"
      ]
     },
     "execution_count": 21,
     "metadata": {},
     "output_type": "execute_result"
    }
   ],
   "source": [
    "#EXPANSIÓN\n",
    "print(\"a:\",a)\n",
    "a_expandido = np.expand_dims(a, axis = 1) #Crea una dimension más\n",
    "print(\"a_expandido:\",a_expandido)\n",
    "a_expandido.shape"
   ]
  },
  {
   "cell_type": "code",
   "execution_count": 22,
   "metadata": {},
   "outputs": [
    {
     "data": {
      "text/plain": [
       "array([1, 2, 3, 4, 5, 6])"
      ]
     },
     "execution_count": 22,
     "metadata": {},
     "output_type": "execute_result"
    }
   ],
   "source": [
    "#COMPRESION\n",
    "np.squeeze(a_expandido) #Lo convierte en una dimension menos (la original)"
   ]
  },
  {
   "attachments": {},
   "cell_type": "markdown",
   "metadata": {},
   "source": [
    "### INDICES Y SLICE\n",
    "![](https://scipy-lectures.org/_images/numpy_indexing.png)"
   ]
  },
  {
   "cell_type": "code",
   "execution_count": 27,
   "metadata": {},
   "outputs": [
    {
     "data": {
      "text/plain": [
       "array([ 30,  50,  70,  90, 110])"
      ]
     },
     "execution_count": 27,
     "metadata": {},
     "output_type": "execute_result"
    }
   ],
   "source": [
    "#[inicio:fin:pasos]\n",
    "#[start:end:steps]\n",
    "array_ej_1 = np.array([10,20,30,40,50,60,70,80,90,100,110,120])\n",
    "#array_ej_1[3:8]\n",
    "array_ej_1[2::2]\n"
   ]
  },
  {
   "cell_type": "code",
   "execution_count": 35,
   "metadata": {},
   "outputs": [
    {
     "name": "stdout",
     "output_type": "stream",
     "text": [
      "[[10 20 30]\n",
      " [40 50 60]\n",
      " [70 80 90]]\n",
      "[[50 60]\n",
      " [80 90]]\n"
     ]
    }
   ],
   "source": [
    "# [INICIO:FIN:PASOS,INICIO:FIN:PASOS]\n",
    "\n",
    "array_ej_2 = np.array([[10, 20, 30], [40, 50, 60], [70, 80, 90]])\n",
    "print(array_ej_2)\n",
    "prueba = array_ej_2[1:, 1:]\n",
    "print(prueba)"
   ]
  },
  {
   "attachments": {},
   "cell_type": "markdown",
   "metadata": {},
   "source": [
    "### APILAR Y CONCATENAR"
   ]
  },
  {
   "cell_type": "code",
   "execution_count": 12,
   "metadata": {},
   "outputs": [
    {
     "name": "stdout",
     "output_type": "stream",
     "text": [
      "Apilar verticalmente\n",
      "[[1 2 3]\n",
      " [4 5 6]]\n",
      "(2, 3)\n",
      "Aplicar horizontalmente\n",
      "[1 2 3 4 5 6]\n",
      "(6,)\n",
      "[[1 2]\n",
      " [3 4]]\n",
      "[[5 6]\n",
      " [7 8]]\n",
      "CONCATENAR EJE 0\n",
      "[[1 2]\n",
      " [3 4]\n",
      " [5 6]\n",
      " [7 8]]\n",
      "CONCATENAR EJE 1\n",
      "[[1 2 5 6]\n",
      " [3 4 7 8]]\n"
     ]
    }
   ],
   "source": [
    "#APILAMIENTO\n",
    "\n",
    "array_1 = np.array([1,2,3])\n",
    "array_2 = np.array([4,5,6])\n",
    "print(\"Apilar verticalmente\")\n",
    "verticalmente = np.vstack((array_1, array_2))\n",
    "print(verticalmente)\n",
    "print(verticalmente.shape)\n",
    "print(\"Aplicar horizontalmente\")\n",
    "horizontalmente = np.hstack((array_1, array_2))\n",
    "print(horizontalmente)\n",
    "print(horizontalmente.shape)\n",
    "\n",
    "#CONCATENACIÓN\n",
    "\n",
    "array_3 = np.array([[1,2], [3,4]])\n",
    "print(array_3)\n",
    "array_4 = np.array([[5,6], [7,8]])\n",
    "print(array_4)\n",
    "print(\"CONCATENAR EJE 0\")\n",
    "concatenacion_eje_0 = np.concatenate((array_3, array_4), axis = 0)\n",
    "print(concatenacion_eje_0)\n",
    "print(\"CONCATENAR EJE 1\")\n",
    "concatenacion_eje_1 = np.concatenate((array_3, array_4), axis = 1)\n",
    "print(concatenacion_eje_1)"
   ]
  },
  {
   "attachments": {},
   "cell_type": "markdown",
   "metadata": {},
   "source": [
    "### BROADCASTING\n",
    "Es una característica poderosa en NumPy que nos permite realizar operaciones aritméticas\n",
    "en matrices de diferentes dimensiones."
   ]
  },
  {
   "cell_type": "code",
   "execution_count": 21,
   "metadata": {},
   "outputs": [
    {
     "name": "stdout",
     "output_type": "stream",
     "text": [
      "[[1 2 3]\n",
      " [3 4 5]]\n",
      "[[ 7  8  9]\n",
      " [10 11 12]]\n",
      "=================\n",
      "[[ 8 10 12]\n",
      " [13 15 17]]\n",
      "=================\n",
      "[[ 7 16 27]\n",
      " [30 44 60]]\n",
      "=================\n"
     ]
    }
   ],
   "source": [
    "array_5 = np.array([[1,2,3], [3,4,5]])\n",
    "array_6 = np.array([[7,8,9], [10,11,12]])\n",
    "print(array_5)\n",
    "print(array_6)\n",
    "print(\"=================\")\n",
    "print(array_5 + array_6)\n",
    "print(\"=================\")\n",
    "print(array_5 * array_6)\n",
    "print(\"=================\")\n"
   ]
  },
  {
   "attachments": {},
   "cell_type": "markdown",
   "metadata": {},
   "source": [
    "### UNIVERSAL FUNCTIONS\n",
    "NumPy proporciona una amplia gama de funciones universales que se pueden aplicar los\n",
    "arrays para realizar operaciones matemáticas. Algunas funciones son:\n",
    "\n",
    "- `np.add`: suma dos arrays por elementos\n",
    "- `np.subtract`: resta dos arrays por elementos\n",
    "- `np.multiply`: multiplica dos arrays por elementos\n",
    "- `np.divide`: divide dos arrays por elementos\n",
    "- `np.abs`: calcula el valor absoluto de un array\n",
    "- `np.sin`: calcula el seno de un array\n",
    "- `np.cos`: calcula el coseno de un array\n",
    "- `np.exp`: calcula el exponente de un array"
   ]
  },
  {
   "cell_type": "code",
   "execution_count": 30,
   "metadata": {},
   "outputs": [
    {
     "name": "stdout",
     "output_type": "stream",
     "text": [
      "SUMA: \t [5 7 9]\n",
      "DIVISIÓN: \t [0.25 0.4  0.5 ]\n",
      "RESTA: \t [-3 -3 -3]\n",
      "ABS: \t [3 3 3]\n",
      "SIN: \t [0.84147098 0.90929743 0.14112001]\n",
      "COS: \t [ 0.54030231 -0.41614684 -0.9899925 ]\n",
      "EXP: \t [ 2.71828183  7.3890561  20.08553692]\n"
     ]
    }
   ],
   "source": [
    "array_7 = np.array([1,2,3])\n",
    "array_8 = np.array([4,5,6])\n",
    "print(\"SUMA: \\t\", np.add(array_7, array_8))\n",
    "print(\"DIVISIÓN: \\t\", np.divide(array_7, array_8))\n",
    "resta = np.subtract(array_7, array_8)\n",
    "print(\"RESTA: \\t\", resta)\n",
    "print(\"ABS: \\t\", np.abs(resta))\n",
    "print(\"SIN: \\t\", np.sin(array_7))\n",
    "print(\"COS: \\t\", np.cos(array_7))\n",
    "print(\"EXP: \\t\", np.exp(array_7))"
   ]
  },
  {
   "attachments": {},
   "cell_type": "markdown",
   "metadata": {},
   "source": [
    "### FUNCIONES MATEMÁTICAS\n",
    "NumPy proporciona muchas funciones para realizar operaciones matemáticas en arrays:\n",
    "\n",
    "- `np.mean`: calcula la media de un array\n",
    "- `np.median`: calcula la mediana de un array\n",
    "- `np.std`: calcula la desviación estándar de un array\n",
    "- `np.min`: calcula el valor mínimo de un array\n",
    "- `np.max`: calcula el valor máximo de un array\n",
    "- `np.argmin`: Calcula el índice del valor mínimo de un array\n",
    "- `np.argmax`: Calcula el índice del valor máximo de un array\n",
    "- `np.sort`: Ordena un array en orden ascendente\n"
   ]
  },
  {
   "cell_type": "code",
   "execution_count": 39,
   "metadata": {},
   "outputs": [
    {
     "name": "stdout",
     "output_type": "stream",
     "text": [
      "PROMEDIO: \t 12.75\n",
      "MEDIANA: \t 12.5\n",
      "DESVIACIÓN STANDAR: \t 4.841229182759271\n",
      "MINIMO: \t 5\n",
      "MAXIMO: \t 20\n",
      "INDICE MINIMO: \t 1\n",
      "INDICE MAXIMO: \t 5\n",
      "ORDEN ASCENDENTE: \t [ 5  8 10 12 13 15 19 20]\n"
     ]
    }
   ],
   "source": [
    "notas = np.array([10,5,12,15,8,20,19,13])\n",
    "print(\"PROMEDIO: \\t\", np.mean(notas))\n",
    "print(\"MEDIANA: \\t\", np.median(notas))\n",
    "print(\"DESVIACIÓN STANDAR: \\t\", np.std(notas))\n",
    "print(\"MINIMO: \\t\", np.min(notas))\n",
    "print(\"MAXIMO: \\t\", np.max(notas))\n",
    "print(\"INDICE MINIMO: \\t\", np.argmin(notas))\n",
    "print(\"INDICE MAXIMO: \\t\", np.argmax(notas))\n",
    "print(\"ORDEN ASCENDENTE: \\t\", np.sort(notas))\n"
   ]
  },
  {
   "attachments": {},
   "cell_type": "markdown",
   "metadata": {},
   "source": [
    "## Ejercicios:\n",
    "1.- Cree un array en NumPy de 10 ceros."
   ]
  },
  {
   "cell_type": "code",
   "execution_count": 36,
   "metadata": {},
   "outputs": [
    {
     "name": "stdout",
     "output_type": "stream",
     "text": [
      "cero: [0 0 0 0 0 0 0 0 0 0]\n"
     ]
    }
   ],
   "source": [
    "cero = np.zeros(10, dtype=int)\n",
    "print(\"cero:\", cero)"
   ]
  },
  {
   "attachments": {},
   "cell_type": "markdown",
   "metadata": {},
   "source": [
    "2.- Cree un array en NumPy de 10 unos."
   ]
  },
  {
   "cell_type": "code",
   "execution_count": 37,
   "metadata": {},
   "outputs": [
    {
     "name": "stdout",
     "output_type": "stream",
     "text": [
      "uno: [1 1 1 1 1 1 1 1 1 1]\n"
     ]
    }
   ],
   "source": [
    "uno = np.ones(10, dtype=int)\n",
    "print(\"uno:\", uno)"
   ]
  },
  {
   "attachments": {},
   "cell_type": "markdown",
   "metadata": {},
   "source": [
    "3.- Cree un array NumPy de 10 números aleatorios entre 0 y 1."
   ]
  },
  {
   "cell_type": "code",
   "execution_count": 39,
   "metadata": {},
   "outputs": [
    {
     "name": "stdout",
     "output_type": "stream",
     "text": [
      "aleatorio: [0.72465088 0.400727   0.00838917 0.60346963 0.38221374 0.29921816\n",
      " 0.50325074 0.31122318 0.5875751  0.27283072]\n"
     ]
    }
   ],
   "source": [
    "aleatorio = np.random.rand(10) #parametro: cantidad de números\n",
    "print(\"aleatorio:\", aleatorio)"
   ]
  },
  {
   "attachments": {},
   "cell_type": "markdown",
   "metadata": {},
   "source": [
    "4.- Cree un array NumPy de 10 números espaciados uniformemente entre 0 y 1."
   ]
  },
  {
   "cell_type": "code",
   "execution_count": 40,
   "metadata": {},
   "outputs": [
    {
     "name": "stdout",
     "output_type": "stream",
     "text": [
      "espaciado: [0.         0.11111111 0.22222222 0.33333333 0.44444444 0.55555556\n",
      " 0.66666667 0.77777778 0.88888889 1.        ]\n"
     ]
    }
   ],
   "source": [
    "espaciado = np.linspace(0, 1, 10) #inicio, fin, cantidad de números\n",
    "print(\"espaciado:\", espaciado)"
   ]
  },
  {
   "attachments": {},
   "cell_type": "markdown",
   "metadata": {},
   "source": [
    "5.- Obtenga las dimensiones y la forma de la matriz NumPy de la pregunta 3. "
   ]
  },
  {
   "cell_type": "code",
   "execution_count": 50,
   "metadata": {},
   "outputs": [
    {
     "name": "stdout",
     "output_type": "stream",
     "text": [
      "(10,)\n"
     ]
    }
   ],
   "source": [
    "dimension = aleatorio\n",
    "print(dimension.shape)"
   ]
  },
  {
   "attachments": {},
   "cell_type": "markdown",
   "metadata": {},
   "source": [
    "6.- Modifique la matriz NumPy de la pregunta 3 en un 2x5 matriz. "
   ]
  },
  {
   "cell_type": "code",
   "execution_count": 51,
   "metadata": {},
   "outputs": [
    {
     "name": "stdout",
     "output_type": "stream",
     "text": [
      "[[0.72465088 0.400727   0.00838917 0.60346963 0.38221374]\n",
      " [0.29921816 0.50325074 0.31122318 0.5875751  0.27283072]]\n"
     ]
    }
   ],
   "source": [
    "modificar = aleatorio.reshape(2,5)\n",
    "print(modificar)"
   ]
  },
  {
   "attachments": {},
   "cell_type": "markdown",
   "metadata": {},
   "source": [
    "7.- Aplane la matriz NumPy de la pregunta 3. "
   ]
  },
  {
   "cell_type": "code",
   "execution_count": 52,
   "metadata": {},
   "outputs": [
    {
     "name": "stdout",
     "output_type": "stream",
     "text": [
      "[0.72465088 0.400727   0.00838917 0.60346963 0.38221374 0.29921816\n",
      " 0.50325074 0.31122318 0.5875751  0.27283072]\n"
     ]
    }
   ],
   "source": [
    "\n",
    "aplanar = np.squeeze(aleatorio)\n",
    "print(aplanar)\n"
   ]
  },
  {
   "attachments": {},
   "cell_type": "markdown",
   "metadata": {},
   "source": [
    "8.- Transponga la matriz NumPy de la pregunta 3. "
   ]
  },
  {
   "cell_type": "code",
   "execution_count": 54,
   "metadata": {},
   "outputs": [
    {
     "name": "stdout",
     "output_type": "stream",
     "text": [
      "[0.72465088 0.400727   0.00838917 0.60346963 0.38221374 0.29921816\n",
      " 0.50325074 0.31122318 0.5875751  0.27283072]\n"
     ]
    },
    {
     "data": {
      "text/plain": [
       "(10,)"
      ]
     },
     "execution_count": 54,
     "metadata": {},
     "output_type": "execute_result"
    }
   ],
   "source": [
    "transponer = aleatorio.transpose()\n",
    "print(transponer)\n",
    "transponer.shape\n"
   ]
  },
  {
   "attachments": {},
   "cell_type": "markdown",
   "metadata": {},
   "source": [
    "9.- Expanda la matriz NumPy de la pregunta 3 agregando una nueva dimensión."
   ]
  },
  {
   "cell_type": "code",
   "execution_count": 58,
   "metadata": {},
   "outputs": [
    {
     "name": "stdout",
     "output_type": "stream",
     "text": [
      "[[0.72465088]\n",
      " [0.400727  ]\n",
      " [0.00838917]\n",
      " [0.60346963]\n",
      " [0.38221374]\n",
      " [0.29921816]\n",
      " [0.50325074]\n",
      " [0.31122318]\n",
      " [0.5875751 ]\n",
      " [0.27283072]]\n"
     ]
    }
   ],
   "source": [
    "expandir = np.expand_dims(aleatorio, axis = 1)\n",
    "print(expandir)"
   ]
  },
  {
   "attachments": {},
   "cell_type": "markdown",
   "metadata": {},
   "source": [
    "10.- Comprima la matriz NumPy de la pregunta 9."
   ]
  },
  {
   "cell_type": "code",
   "execution_count": 59,
   "metadata": {},
   "outputs": [
    {
     "name": "stdout",
     "output_type": "stream",
     "text": [
      "[0.72465088 0.400727   0.00838917 0.60346963 0.38221374 0.29921816\n",
      " 0.50325074 0.31122318 0.5875751  0.27283072]\n"
     ]
    }
   ],
   "source": [
    "comprimir = np.squeeze(expandir)\n",
    "print(comprimir)"
   ]
  },
  {
   "attachments": {},
   "cell_type": "markdown",
   "metadata": {},
   "source": [
    "11.- Cree en NumPy un array de números 10 aleatorios enteros entre 0 y 100."
   ]
  },
  {
   "cell_type": "code",
   "execution_count": 61,
   "metadata": {},
   "outputs": [
    {
     "name": "stdout",
     "output_type": "stream",
     "text": [
      "aleatorio_100: [62 78 36 61 41 18 58 40 47 37]\n"
     ]
    }
   ],
   "source": [
    "aleatorio_100 = np.random.randint(0,100,10) #parametro: cantidad de números\n",
    "print(\"aleatorio_100:\", aleatorio_100)"
   ]
  },
  {
   "attachments": {},
   "cell_type": "markdown",
   "metadata": {},
   "source": [
    "12.- Corte el array NumPy de la pregunta 11 para obtener los elementos en el índice 2,\n",
    "5 y 8."
   ]
  },
  {
   "cell_type": "code",
   "execution_count": 62,
   "metadata": {},
   "outputs": [
    {
     "name": "stdout",
     "output_type": "stream",
     "text": [
      "[36 18 47]\n"
     ]
    }
   ],
   "source": [
    "\n",
    "\n",
    "nuevo_array = aleatorio_100[2::3]\n",
    "print(nuevo_array)"
   ]
  },
  {
   "attachments": {},
   "cell_type": "markdown",
   "metadata": {},
   "source": [
    "13.- Cree una matriz de 2 x 5 de números enteros aleatorios entre 0 y 100."
   ]
  },
  {
   "cell_type": "code",
   "execution_count": 74,
   "metadata": {},
   "outputs": [
    {
     "name": "stdout",
     "output_type": "stream",
     "text": [
      "[[ 1 97  9 63 64]\n",
      " [77  3 21 48 93]]\n"
     ]
    }
   ],
   "source": [
    "matriz_aleatoria = np.random.randint(0, 100, size=(2, 5))\n",
    "print(matriz_aleatoria)"
   ]
  },
  {
   "attachments": {},
   "cell_type": "markdown",
   "metadata": {},
   "source": [
    "14.- Corte la matriz de la pregunta 13 para obtener los elementos de la segunda fila. "
   ]
  },
  {
   "cell_type": "code",
   "execution_count": null,
   "metadata": {},
   "outputs": [],
   "source": []
  },
  {
   "attachments": {},
   "cell_type": "markdown",
   "metadata": {},
   "source": [
    "15.- Una las matrices NumPy de las preguntas 11 y 13 a lo largo del eje vertical."
   ]
  },
  {
   "cell_type": "code",
   "execution_count": null,
   "metadata": {},
   "outputs": [],
   "source": []
  },
  {
   "attachments": {},
   "cell_type": "markdown",
   "metadata": {},
   "source": [
    "16.- Cree una matriz de `shape (3,3,3)` de números enteros aleatorios entre 0 y 100.\n"
   ]
  },
  {
   "cell_type": "code",
   "execution_count": null,
   "metadata": {},
   "outputs": [],
   "source": []
  },
  {
   "attachments": {},
   "cell_type": "markdown",
   "metadata": {},
   "source": [
    "17.- Corte la matriz de la pregunta 16 para obtener los elementos en el segundo plano,\n",
    "la primera fila y la tercera columna. "
   ]
  },
  {
   "cell_type": "code",
   "execution_count": null,
   "metadata": {},
   "outputs": [],
   "source": []
  },
  {
   "attachments": {},
   "cell_type": "markdown",
   "metadata": {},
   "source": [
    "18.- Realice sumas, restas, multiplicaciones y divisiones por elementos en la matriz\n",
    "NumPy de la pregunta 11 y la matriz de la pregunta 13. "
   ]
  },
  {
   "cell_type": "code",
   "execution_count": null,
   "metadata": {},
   "outputs": [],
   "source": []
  },
  {
   "attachments": {},
   "cell_type": "markdown",
   "metadata": {},
   "source": [
    "19.- Calcule la media, la mediana y la desviación estándar de la matriz NumPy de la\n",
    "pregunta 11."
   ]
  },
  {
   "cell_type": "code",
   "execution_count": null,
   "metadata": {},
   "outputs": [],
   "source": []
  },
  {
   "attachments": {},
   "cell_type": "markdown",
   "metadata": {},
   "source": [
    "20.- Encuentre los valores mínimo y máximo y sus índices en la matriz NumPy de la\n",
    "pregunta 11."
   ]
  },
  {
   "cell_type": "code",
   "execution_count": null,
   "metadata": {},
   "outputs": [],
   "source": []
  },
  {
   "attachments": {},
   "cell_type": "markdown",
   "metadata": {},
   "source": [
    "21.- Cree una matriz NumPy de 10 enteros aleatorios entre 0 y 100 y reemplace todos\n",
    "los números pares con 0. "
   ]
  },
  {
   "cell_type": "code",
   "execution_count": null,
   "metadata": {},
   "outputs": [],
   "source": []
  },
  {
   "attachments": {},
   "cell_type": "markdown",
   "metadata": {},
   "source": [
    "22.- Cree una matriz de 5x5 de enteros aleatorios entre 0 y 100 y reemplace todos los\n",
    "elementos que son divisibles por 3 con 0."
   ]
  },
  {
   "cell_type": "code",
   "execution_count": null,
   "metadata": {},
   "outputs": [],
   "source": []
  },
  {
   "attachments": {},
   "cell_type": "markdown",
   "metadata": {},
   "source": [
    "23.- Realice funciones trigonométricas por elementos (sen, cos, tan) en la matriz\n",
    "NumPy de la pregunta 1."
   ]
  },
  {
   "cell_type": "code",
   "execution_count": null,
   "metadata": {},
   "outputs": [],
   "source": []
  },
  {
   "attachments": {},
   "cell_type": "markdown",
   "metadata": {},
   "source": [
    "24.- Cree una matriz de 2x5 de números enteros aleatorios entre 0 y 100 y realice\n",
    "operaciones de comparación de elementos (mayor que, menor que, igual a) con un\n",
    "valor escalar. "
   ]
  },
  {
   "cell_type": "code",
   "execution_count": null,
   "metadata": {},
   "outputs": [],
   "source": []
  },
  {
   "attachments": {},
   "cell_type": "markdown",
   "metadata": {},
   "source": [
    "25.- Cree una matriz de 3x3x3 de números enteros aleatorios entre 0 y 100 y realice\n",
    "operaciones lógicas por elementos (si es igual) con un valor escalar. "
   ]
  },
  {
   "cell_type": "code",
   "execution_count": null,
   "metadata": {},
   "outputs": [],
   "source": []
  },
  {
   "attachments": {},
   "cell_type": "markdown",
   "metadata": {},
   "source": [
    "26.- Cree un array de 10 números enteros aleatorios entre 0 y 100 y ordénelo en orden\n",
    "ascendente."
   ]
  },
  {
   "cell_type": "code",
   "execution_count": null,
   "metadata": {},
   "outputs": [],
   "source": []
  },
  {
   "attachments": {},
   "cell_type": "markdown",
   "metadata": {},
   "source": [
    "27.- Cree una matriz de 5x5 de números enteros aleatorios entre 0 y 100 y ordene las\n",
    "filas en orden ascendente."
   ]
  },
  {
   "cell_type": "code",
   "execution_count": null,
   "metadata": {},
   "outputs": [],
   "source": []
  },
  {
   "attachments": {},
   "cell_type": "markdown",
   "metadata": {},
   "source": [
    "28.- Cree una matriz de 3x3x3 de números enteros aleatorios entre 0 y 100 y ordene en\n",
    "función del axis 2 (planos) en orden ascendente."
   ]
  },
  {
   "cell_type": "code",
   "execution_count": null,
   "metadata": {},
   "outputs": [],
   "source": []
  }
 ],
 "metadata": {
  "kernelspec": {
   "display_name": "Python 3",
   "language": "python",
   "name": "python3"
  },
  "language_info": {
   "codemirror_mode": {
    "name": "ipython",
    "version": 3
   },
   "file_extension": ".py",
   "mimetype": "text/x-python",
   "name": "python",
   "nbconvert_exporter": "python",
   "pygments_lexer": "ipython3",
   "version": "3.12.0"
  },
  "orig_nbformat": 4
 },
 "nbformat": 4,
 "nbformat_minor": 2
}
