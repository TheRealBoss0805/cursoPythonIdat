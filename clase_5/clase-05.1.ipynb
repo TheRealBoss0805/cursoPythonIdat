{
 "cells": [
  {
   "attachments": {},
   "cell_type": "markdown",
   "metadata": {},
   "source": [
    "# Variables categóricas y numéricas\n",
    "\n",
    "Como base del análisis de datos trataremos la extracción de características cuantitativas a partir de los datos.\n",
    "\n",
    "¿Qué es una variable?\n",
    "Es una característica que puede fluctuar y cuya variación es susceptible de adoptar diferentes valores, los cuales pueden medirse u observarse. Podemos considerar dos tipos de variables: númericas y categóricas:\n",
    "\n",
    "![](https://reisdigital.es/wp-content/uploads/2022/10/como-diferenciar-variables-categoricas-y-numericas-en-analisis-de-datos.png)\n",
    "\n"
   ]
  },
  {
   "attachments": {},
   "cell_type": "markdown",
   "metadata": {},
   "source": [
    "### Variables numéricas\n",
    "Son aquellas características que describen una cantidad medible como un número. Por ejemplo: edad, ingresos, peso, altura, presión, humedad, temperatura o cantidad de hermanos. Responden a preguntas del tipo «cuánto» o «cuántos», por lo tanto las variables numéricas son variables cuantitativas.\n",
    "\n",
    "Las variables numéricas pueden ser continuas o discretas:\n",
    "- **Una variable continua** puede tomar cualquier valor entre un determinado conjunto de números reales. Ejemplos son el peso, talla, ventas mensuales, etc.\n",
    "- **Una variable discreta** las observaciones pueden tomar un valor basado en un conjunto de valores enteros distintos. Ejemplos son el número de automóviles registrados, el número de ubicaciones comerciales y el número de hijos en una familia, todos ellos medidos como unidades completas (es decir, 1, 2, 3 automóviles).\n"
   ]
  },
  {
   "attachments": {},
   "cell_type": "markdown",
   "metadata": {},
   "source": [
    "### Variables categóricas\n",
    "Una variable categórica es aquella que permite clasificar una serie de datos por medio de valores fijos asociados a una cualidad o categoría concreta.\n",
    "\n",
    "La variable categórica, a diferencia de las variables cardinales o continuas (que permiten cálculos numéricos), clasifica a los individuos o casos. Normalmente toman valores representados por números enteros, como el uno o el cero, pero estos son solo eso, representaciones.\n",
    "\n",
    "¿Qué pasa si tenemos una variable categórica?. Por ejemplo, imagina que disponemos del color de cada flor de iris: $color \\in \\{red, blue, purple\\}$\n",
    "\n",
    "Podrías estar tentado de usar algo así como i.e. *red=1, blue=2, purple=3*, pero, en general, **esto es una mala idea**. Los estimadores tienden a trabajar con la suposición de que las características numéricas se sitúan en una escala continua por lo que, en este ejemplo, 1 y 2 serían más parecidos que 1 y 3 y esto no tiene porque ser generalmente verdad.\n",
    "\n",
    "De hecho, el ejemplo anterior es una subcategoría de las variables categóricas, en concreto, una variable nominal. Las variables nominales no tienen asociado un orden, mientras que las variables ordinales si que implican un orden. Por ejemplo, las tallas de las camisetas formarían una variable ordinal \"XL > L > M > S\". \n",
    "![](https://www.marketing-analitico.com/wp-content/uploads/2019/09/tipos_de_variables_datasets.png)"
   ]
  },
  {
   "cell_type": "code",
   "execution_count": null,
   "metadata": {
    "vscode": {
     "languageId": "plaintext"
    }
   },
   "outputs": [],
   "source": []
  }
 ],
 "metadata": {
  "anaconda-cloud": {},
  "kernelspec": {
   "display_name": "Python 3",
   "language": "python",
   "name": "python3"
  },
  "language_info": {
   "codemirror_mode": {
    "name": "ipython",
    "version": 3
   },
   "file_extension": ".py",
   "mimetype": "text/x-python",
   "name": "python",
   "nbconvert_exporter": "python",
   "pygments_lexer": "ipython3",
   "version": "3.11.4"
  }
 },
 "nbformat": 4,
 "nbformat_minor": 1
}
