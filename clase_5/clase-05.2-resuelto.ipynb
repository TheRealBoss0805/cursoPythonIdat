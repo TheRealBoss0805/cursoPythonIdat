{
  "cells": [
    {
      "attachments": {},
      "cell_type": "markdown",
      "metadata": {
        "id": "2i_yGkkUs3QA"
      },
      "source": [
        "# Medidas de Tendencia Central y Dispersión\n",
        "\n",
        "Hemos estado organizando y visualizando los datos de distintas maneras, pero ¿qué intuiciones podemos obtener?\n",
        "\n",
        "Las visualizaciones como histogramas o gráficos de conteo muestran la cantidad de veces que se observa cada valor en un conjunto de realizaciones de una variable aleatoria. Esto se denomina análisis de frecuencia, y es parte de la **estadística descriptiva**.\n",
        "\n",
        "El uso de visualizaciones nos limita a estimaciones, pero los datos crudos son demasiado como para intepretarlos en conjunto. Para eso, la estadística descriptiva provee también medidas de tendencia central y de dispersión, que resumen en un valor numérico propiedades de las realizaciones de la variable.\n"
      ]
    },
    {
      "cell_type": "code",
      "execution_count": 1,
      "metadata": {},
      "outputs": [
        {
          "data": {
            "text/html": [
              "<div>\n",
              "<style scoped>\n",
              "    .dataframe tbody tr th:only-of-type {\n",
              "        vertical-align: middle;\n",
              "    }\n",
              "\n",
              "    .dataframe tbody tr th {\n",
              "        vertical-align: top;\n",
              "    }\n",
              "\n",
              "    .dataframe thead th {\n",
              "        text-align: right;\n",
              "    }\n",
              "</style>\n",
              "<table border=\"1\" class=\"dataframe\">\n",
              "  <thead>\n",
              "    <tr style=\"text-align: right;\">\n",
              "      <th></th>\n",
              "      <th>profile_gender</th>\n",
              "      <th>profile_age</th>\n",
              "      <th>work_country</th>\n",
              "      <th>work_province</th>\n",
              "      <th>profile_studies_level</th>\n",
              "      <th>profile_studies_level_state</th>\n",
              "      <th>profile_career</th>\n",
              "      <th>profile_university</th>\n",
              "      <th>work_role</th>\n",
              "      <th>salary_monthly_BRUTO</th>\n",
              "      <th>salary_monthly_NETO</th>\n",
              "      <th>salary_in_usd</th>\n",
              "      <th>salary_satisfaction</th>\n",
              "      <th>salary_comparison_last_semester</th>\n",
              "      <th>salary_has_bonus</th>\n",
              "      <th>salary_bonus_tied_to</th>\n",
              "      <th>salary_inflation_adjustment_2020</th>\n",
              "      <th>salary_percentage_inflation_adjustment_2020</th>\n",
              "      <th>salary_month_last_inflation_adjustment</th>\n",
              "      <th>profile_sexual_orientation</th>\n",
              "      <th>profile_has_disabilities_hiring_difficulties</th>\n",
              "      <th>company_employee_number</th>\n",
              "      <th>company_main_activity</th>\n",
              "      <th>company_extra_benefits</th>\n",
              "      <th>company_best_companies_city</th>\n",
              "    </tr>\n",
              "  </thead>\n",
              "  <tbody>\n",
              "    <tr>\n",
              "      <th>761</th>\n",
              "      <td>Hombre</td>\n",
              "      <td>31</td>\n",
              "      <td>Argentina</td>\n",
              "      <td>Ciudad Autónoma de Buenos Aires</td>\n",
              "      <td>Universitario</td>\n",
              "      <td>Completado</td>\n",
              "      <td>NaN</td>\n",
              "      <td>NaN</td>\n",
              "      <td>Developer</td>\n",
              "      <td>159000.0</td>\n",
              "      <td>111000.0</td>\n",
              "      <td>NaN</td>\n",
              "      <td>2</td>\n",
              "      <td>2</td>\n",
              "      <td>No</td>\n",
              "      <td>No recibo bono</td>\n",
              "      <td>Tres</td>\n",
              "      <td>50.0</td>\n",
              "      <td>6</td>\n",
              "      <td>Heterosexual</td>\n",
              "      <td>NaN</td>\n",
              "      <td>201-500</td>\n",
              "      <td>Servicios / Consultoría de Software / Digital</td>\n",
              "      <td>Capacitaciones y/o cursos, Clases de idiomas, ...</td>\n",
              "      <td>Medallia, Mulesoft</td>\n",
              "    </tr>\n",
              "    <tr>\n",
              "      <th>2752</th>\n",
              "      <td>Hombre</td>\n",
              "      <td>35</td>\n",
              "      <td>Argentina</td>\n",
              "      <td>Ciudad Autónoma de Buenos Aires</td>\n",
              "      <td>Universitario</td>\n",
              "      <td>Incompleto</td>\n",
              "      <td>Licenciatura en Ciencias dela Computación</td>\n",
              "      <td>UBA - Universidad de Buenos Aires</td>\n",
              "      <td>Project Manager</td>\n",
              "      <td>127000.0</td>\n",
              "      <td>94000.0</td>\n",
              "      <td>NaN</td>\n",
              "      <td>3</td>\n",
              "      <td>2</td>\n",
              "      <td>No</td>\n",
              "      <td>No recibo bono</td>\n",
              "      <td>Uno</td>\n",
              "      <td>20.0</td>\n",
              "      <td>4</td>\n",
              "      <td>Heterosexual</td>\n",
              "      <td>NaN</td>\n",
              "      <td>51-100</td>\n",
              "      <td>Producto basado en Software</td>\n",
              "      <td>Clases de gimnasia online</td>\n",
              "      <td>NaN</td>\n",
              "    </tr>\n",
              "  </tbody>\n",
              "</table>\n",
              "</div>"
            ],
            "text/plain": [
              "     profile_gender  profile_age work_country  \\\n",
              "761          Hombre           31    Argentina   \n",
              "2752         Hombre           35    Argentina   \n",
              "\n",
              "                        work_province profile_studies_level  \\\n",
              "761   Ciudad Autónoma de Buenos Aires         Universitario   \n",
              "2752  Ciudad Autónoma de Buenos Aires         Universitario   \n",
              "\n",
              "     profile_studies_level_state                             profile_career  \\\n",
              "761                   Completado                                        NaN   \n",
              "2752                  Incompleto  Licenciatura en Ciencias dela Computación   \n",
              "\n",
              "                     profile_university        work_role  \\\n",
              "761                                 NaN        Developer   \n",
              "2752  UBA - Universidad de Buenos Aires  Project Manager   \n",
              "\n",
              "      salary_monthly_BRUTO  salary_monthly_NETO salary_in_usd  \\\n",
              "761               159000.0             111000.0           NaN   \n",
              "2752              127000.0              94000.0           NaN   \n",
              "\n",
              "      salary_satisfaction  salary_comparison_last_semester salary_has_bonus  \\\n",
              "761                     2                                2               No   \n",
              "2752                    3                                2               No   \n",
              "\n",
              "     salary_bonus_tied_to salary_inflation_adjustment_2020  \\\n",
              "761        No recibo bono                             Tres   \n",
              "2752       No recibo bono                              Uno   \n",
              "\n",
              "      salary_percentage_inflation_adjustment_2020  \\\n",
              "761                                          50.0   \n",
              "2752                                         20.0   \n",
              "\n",
              "      salary_month_last_inflation_adjustment profile_sexual_orientation  \\\n",
              "761                                        6               Heterosexual   \n",
              "2752                                       4               Heterosexual   \n",
              "\n",
              "     profile_has_disabilities_hiring_difficulties company_employee_number  \\\n",
              "761                                           NaN                 201-500   \n",
              "2752                                          NaN                  51-100   \n",
              "\n",
              "                              company_main_activity  \\\n",
              "761   Servicios / Consultoría de Software / Digital   \n",
              "2752                    Producto basado en Software   \n",
              "\n",
              "                                 company_extra_benefits  \\\n",
              "761   Capacitaciones y/o cursos, Clases de idiomas, ...   \n",
              "2752                          Clases de gimnasia online   \n",
              "\n",
              "     company_best_companies_city  \n",
              "761           Medallia, Mulesoft  \n",
              "2752                         NaN  "
            ]
          },
          "execution_count": 1,
          "metadata": {},
          "output_type": "execute_result"
        }
      ],
      "source": [
        "import pandas as pd\n",
        "pd.set_option(\"display.max_columns\", 40)\n",
        "\n",
        "\n",
        "df = pd.read_csv(\"encuesta-trabajadores-2020.csv\")\n",
        "df.sample(2)"
      ]
    },
    {
      "attachments": {},
      "cell_type": "markdown",
      "metadata": {
        "id": "QC-wJbBitzDH"
      },
      "source": [
        "## Medidas de tendencia central\n",
        "\n",
        "Cuando se quiere obtener un valor representativo de un conjunto de datos, o su centro, se utiliza una *medida de tendencia central*.\n",
        "\n",
        "Repasando, dada X una variable y un conjunto de realizaciones $x = \\{ x_1, x_2 ... \\}$ donde $x_i = X(\\omega)$ para algún $\\omega \\in \\Omega$, y $N = |x|$:\n",
        "\n",
        "* La **media muestral** (aritmética) o promedio se calcula como:\n",
        "\n",
        "$$ \\bar{x} = \\frac{1}{N} \\sum_i^N x_i $$\n",
        "\n",
        "* La **mediana** se calcula:\n",
        "  1. Ordenar las realizaciones tal que $x_j \\leq x_{j+1}$ \n",
        "  2. Si la cantidad de datos $N$ es impar, la mediana es el valor central: $median = x_{\\lfloor N / 2 \\rfloor +1}$\n",
        "  3. Si la cantidad de datos $N$ es par, la mediana es e promedio de los dos valores centrales: $median = \\frac{1}{2} (x_{ N / 2 } + x_{ (N / 2) +1})$\n",
        "\n",
        "* La **moda** son los valores con mayor frecuencia, es decir, los que más se repite.\n"
      ]
    },
    {
      "cell_type": "code",
      "execution_count": 2,
      "metadata": {},
      "outputs": [
        {
          "name": "stdout",
          "output_type": "stream",
          "text": [
            "Media: \t\t 124058.54962132896\n",
            "Mediana: \t 96000.0\n",
            "Moda: \t\t 100000.0\n"
          ]
        }
      ],
      "source": [
        "print(\"Media: \\t\\t\", df.salary_monthly_BRUTO.mean())\n",
        "print(\"Mediana: \\t\", df.salary_monthly_BRUTO.median())\n",
        "print(\"Moda: \\t\\t\", df.salary_monthly_BRUTO.mode()[0])"
      ]
    },
    {
      "attachments": {},
      "cell_type": "markdown",
      "metadata": {
        "id": "hDltOaTjnuFd"
      },
      "source": [
        "**¿Por qué las dos medidas son tan distintas?**\n",
        "\n",
        "Propiedades de la media:\n",
        "* Se puede interpretar como el *centro de masa* del histograma. Es decir, si el histograma fuera una figura de madera, el punto de equilibrio donde podemos apoyarlo y no se cae es la media.\n",
        "* Es muy sensible a valores extremos. "
      ]
    },
    {
      "cell_type": "code",
      "execution_count": 3,
      "metadata": {},
      "outputs": [
        {
          "data": {
            "text/plain": [
              "array([   26,    29,    22,    39,    32,    25,    33,    23,    40,\n",
              "          35,    37,    34,    45,    42,    31,    24,    38,    41,\n",
              "          30,    28,    53,    21,    27,    43,    50,    44,    20,\n",
              "          19,    47,    36,    48,    46,    49,    52,    18,    56,\n",
              "          55,    54,    51,    61,    57,    67,    58,   567,    65,\n",
              "          59,    60,    64,    62, 52000], dtype=int64)"
            ]
          },
          "execution_count": 3,
          "metadata": {},
          "output_type": "execute_result"
        }
      ],
      "source": [
        "import numpy as np\n",
        "edades = np.array(df.profile_age.unique())\n",
        "edades"
      ]
    },
    {
      "cell_type": "code",
      "execution_count": 4,
      "metadata": {},
      "outputs": [
        {
          "name": "stdout",
          "output_type": "stream",
          "text": [
            "Media: \t\t 1091.26\n",
            "Mediana: \t 42.5\n"
          ]
        }
      ],
      "source": [
        "print(\"Media: \\t\\t\", np.mean(edades))\n",
        "print(\"Mediana: \\t\", np.median(edades))"
      ]
    },
    {
      "cell_type": "code",
      "execution_count": 5,
      "metadata": {},
      "outputs": [
        {
          "data": {
            "image/png": "[encoded data removed]",
            "text/plain": [
              "<Figure size 640x480 with 1 Axes>"
            ]
          },
          "metadata": {},
          "output_type": "display_data"
        }
      ],
      "source": [
        "import matplotlib.pyplot as plt\n",
        "\n",
        "fig, ax = plt.subplots()\n",
        "\n",
        "ax.hist(df.salary_monthly_BRUTO, bins=100)\n",
        "ax.ticklabel_format(style=\"plain\")\n",
        "\n",
        "ax.axvline(df.salary_monthly_BRUTO.mean(), color=\"orange\", label=\"media\")\n",
        "ax.axvline(df.salary_monthly_BRUTO.median(), color=\"red\", label=\"mediana\")\n",
        "ax.legend()\n",
        "\n",
        "plt.show()"
      ]
    },
    {
      "cell_type": "code",
      "execution_count": 9,
      "metadata": {},
      "outputs": [
        {
          "data": {
            "image/png": "[encoded data removed]",
            "text/plain": [
              "<Figure size 640x480 with 1 Axes>"
            ]
          },
          "metadata": {},
          "output_type": "display_data"
        }
      ],
      "source": [
        "import matplotlib.pyplot as plt\n",
        "\n",
        "df_filtered = df[ df.salary_monthly_BRUTO < 400000]\n",
        "\n",
        "\n",
        "fig, ax = plt.subplots()\n",
        "\n",
        "ax.hist(df_filtered.salary_monthly_BRUTO, bins=20)\n",
        "ax.ticklabel_format(style=\"plain\")\n",
        "\n",
        "ax.axvline(df_filtered.salary_monthly_BRUTO.mean(), color=\"black\", label=\"media\")\n",
        "ax.axvline(df_filtered.salary_monthly_BRUTO.median(), color=\"white\", label=\"mediana\")\n",
        "ax.legend()\n",
        "\n",
        "plt.show()"
      ]
    },
    {
      "attachments": {},
      "cell_type": "markdown",
      "metadata": {
        "id": "Li3vLv3X8k7Z"
      },
      "source": [
        "### Medidas de dispersión\n",
        "\n",
        "Las medidas de dispersión vistas en el teórico son la desviación estándar, la varianza, y el coeficiente de variación. También permiten representar con un número alguna propiedad de los datos.\n",
        "\n",
        "Por ejemplo, comparemos el salario neto con el salario bruto. A priori, **¿deberíamos ver alguna diferencia?**"
      ]
    },
    {
      "cell_type": "code",
      "execution_count": 10,
      "metadata": {},
      "outputs": [
        {
          "data": {
            "text/plain": [
              "count       6095.00\n",
              "mean      124058.55\n",
              "std       122912.35\n",
              "min            1.00\n",
              "25%        61595.00\n",
              "50%        96000.00\n",
              "75%       145000.00\n",
              "max      2180000.00\n",
              "Name: salary_monthly_BRUTO, dtype: float64"
            ]
          },
          "execution_count": 10,
          "metadata": {},
          "output_type": "execute_result"
        }
      ],
      "source": [
        "df.salary_monthly_BRUTO.describe().round(2)"
      ]
    },
    {
      "attachments": {},
      "cell_type": "markdown",
      "metadata": {},
      "source": [
        "### Varianza\n",
        "$$\\sigma^2 = \\frac{1}{N}\\sum_{i=1}^N(x_i - \\mu)^2$$\n",
        "\n",
        "La varianza es una medida de dispersión que representa la variabilidad de una serie de datos con respecto a su media."
      ]
    },
    {
      "cell_type": "code",
      "execution_count": 11,
      "metadata": {},
      "outputs": [
        {
          "data": {
            "text/plain": [
              "15107446234.536167"
            ]
          },
          "execution_count": 11,
          "metadata": {},
          "output_type": "execute_result"
        }
      ],
      "source": [
        "df.salary_monthly_BRUTO.var()"
      ]
    },
    {
      "attachments": {},
      "cell_type": "markdown",
      "metadata": {},
      "source": [
        "### Desviación estándar\n",
        "\n",
        "$$\\sigma = \\sqrt{\\frac{1}{N}\\sum_{i=1}^N(x_i - \\mu)^2}$$\n",
        "\n",
        "La desviación estándar es un promedio de las desviaciones individuales de cada observación con respecto a la media de una distribución."
      ]
    },
    {
      "cell_type": "code",
      "execution_count": 12,
      "metadata": {},
      "outputs": [
        {
          "data": {
            "text/plain": [
              "122912.35183876423"
            ]
          },
          "execution_count": 12,
          "metadata": {},
          "output_type": "execute_result"
        }
      ],
      "source": [
        "df.salary_monthly_BRUTO.std()"
      ]
    },
    {
      "cell_type": "code",
      "execution_count": 13,
      "metadata": {},
      "outputs": [
        {
          "data": {
            "text/plain": [
              "67953.33097916115"
            ]
          },
          "execution_count": 13,
          "metadata": {},
          "output_type": "execute_result"
        }
      ],
      "source": [
        "df_filtered.salary_monthly_BRUTO.std()"
      ]
    },
    {
      "cell_type": "code",
      "execution_count": 14,
      "metadata": {},
      "outputs": [
        {
          "data": {
            "text/plain": [
              "930.0814779123148"
            ]
          },
          "execution_count": 14,
          "metadata": {},
          "output_type": "execute_result"
        }
      ],
      "source": [
        "import numpy as np\n",
        "np.array([2000,26,28]).std()"
      ]
    },
    {
      "attachments": {},
      "cell_type": "markdown",
      "metadata": {
        "id": "lVG6Ro-6ao3j"
      },
      "source": [
        "## Percentiles y gráficos de caja\n",
        "\n",
        "Los gráficos de caja son otra forma de representar la distribución de las realizaciones de una varaible numérica, de una forma más condensada que un histograma.\n",
        "\n",
        "Son muy útiles para comparar muchas distribuciones, pero sólo cuando son muy distintas entre ellas, ya que oscurecen algunas sutilezas."
      ]
    },
    {
      "cell_type": "code",
      "execution_count": 15,
      "metadata": {},
      "outputs": [
        {
          "data": {
            "image/png": "[encoded data removed]",
            "text/plain": [
              "<Figure size 1000x300 with 1 Axes>"
            ]
          },
          "metadata": {},
          "output_type": "display_data"
        }
      ],
      "source": [
        "plt.figure(figsize=(10,3))\n",
        "plt.boxplot(df.salary_monthly_BRUTO, vert=False)\n",
        "plt.ticklabel_format(style=\"plain\", axis=\"x\")\n",
        "plt.xticks(np.linspace(0, 3000000, 11))\n",
        "plt.show()"
      ]
    },
    {
      "cell_type": "code",
      "execution_count": 16,
      "metadata": {},
      "outputs": [
        {
          "data": {
            "text/html": [
              "<div>\n",
              "<style scoped>\n",
              "    .dataframe tbody tr th:only-of-type {\n",
              "        vertical-align: middle;\n",
              "    }\n",
              "\n",
              "    .dataframe tbody tr th {\n",
              "        vertical-align: top;\n",
              "    }\n",
              "\n",
              "    .dataframe thead th {\n",
              "        text-align: right;\n",
              "    }\n",
              "</style>\n",
              "<table border=\"1\" class=\"dataframe\">\n",
              "  <thead>\n",
              "    <tr style=\"text-align: right;\">\n",
              "      <th></th>\n",
              "      <th>profile_gender</th>\n",
              "      <th>profile_age</th>\n",
              "      <th>work_country</th>\n",
              "      <th>work_province</th>\n",
              "      <th>profile_studies_level</th>\n",
              "      <th>profile_studies_level_state</th>\n",
              "      <th>profile_career</th>\n",
              "      <th>profile_university</th>\n",
              "      <th>work_role</th>\n",
              "      <th>salary_monthly_BRUTO</th>\n",
              "      <th>salary_monthly_NETO</th>\n",
              "      <th>salary_in_usd</th>\n",
              "      <th>salary_satisfaction</th>\n",
              "      <th>salary_comparison_last_semester</th>\n",
              "      <th>salary_has_bonus</th>\n",
              "      <th>salary_bonus_tied_to</th>\n",
              "      <th>salary_inflation_adjustment_2020</th>\n",
              "      <th>salary_percentage_inflation_adjustment_2020</th>\n",
              "      <th>salary_month_last_inflation_adjustment</th>\n",
              "      <th>profile_sexual_orientation</th>\n",
              "      <th>profile_has_disabilities_hiring_difficulties</th>\n",
              "      <th>company_employee_number</th>\n",
              "      <th>company_main_activity</th>\n",
              "      <th>company_extra_benefits</th>\n",
              "      <th>company_best_companies_city</th>\n",
              "    </tr>\n",
              "  </thead>\n",
              "  <tbody>\n",
              "    <tr>\n",
              "      <th>1381</th>\n",
              "      <td>Hombre</td>\n",
              "      <td>38</td>\n",
              "      <td>Argentina</td>\n",
              "      <td>Ciudad Autónoma de Buenos Aires</td>\n",
              "      <td>Posgrado</td>\n",
              "      <td>En curso</td>\n",
              "      <td>Ingeniería en Informática</td>\n",
              "      <td>UAI - Universidad Abierta Interamericana</td>\n",
              "      <td>BI Analyst / Data Analyst</td>\n",
              "      <td>99500.0</td>\n",
              "      <td>105000.0</td>\n",
              "      <td>NaN</td>\n",
              "      <td>3</td>\n",
              "      <td>3</td>\n",
              "      <td>No</td>\n",
              "      <td>No recibo bono</td>\n",
              "      <td>Uno</td>\n",
              "      <td>13.0</td>\n",
              "      <td>4</td>\n",
              "      <td>Heterosexual</td>\n",
              "      <td>No</td>\n",
              "      <td>201-500</td>\n",
              "      <td>Servicios / Consultoría de Software / Digital</td>\n",
              "      <td>Clases de idiomas, Descuentos varios (Mercado ...</td>\n",
              "      <td>NaN</td>\n",
              "    </tr>\n",
              "    <tr>\n",
              "      <th>3546</th>\n",
              "      <td>Hombre</td>\n",
              "      <td>29</td>\n",
              "      <td>Argentina</td>\n",
              "      <td>Santa Fe</td>\n",
              "      <td>Universitario</td>\n",
              "      <td>En curso</td>\n",
              "      <td>Licenciatura en Ciencias dela Computación</td>\n",
              "      <td>UNR - Universidad Nacional de Rosario</td>\n",
              "      <td>Developer</td>\n",
              "      <td>130000.0</td>\n",
              "      <td>98000.0</td>\n",
              "      <td>NaN</td>\n",
              "      <td>3</td>\n",
              "      <td>3</td>\n",
              "      <td>De uno a tres sueldos</td>\n",
              "      <td>Mix de las anteriores</td>\n",
              "      <td>Uno</td>\n",
              "      <td>35.0</td>\n",
              "      <td>4</td>\n",
              "      <td>¿Qué les importa?</td>\n",
              "      <td>NaN</td>\n",
              "      <td>Nov-50</td>\n",
              "      <td>Servicios / Consultoría de Software / Digital</td>\n",
              "      <td>Capacitaciones y/o cursos, Clases de idiomas, ...</td>\n",
              "      <td>NaN</td>\n",
              "    </tr>\n",
              "    <tr>\n",
              "      <th>2344</th>\n",
              "      <td>Hombre</td>\n",
              "      <td>30</td>\n",
              "      <td>Argentina</td>\n",
              "      <td>Ciudad Autónoma de Buenos Aires</td>\n",
              "      <td>Universitario</td>\n",
              "      <td>Incompleto</td>\n",
              "      <td>Diseño Gráfico</td>\n",
              "      <td>UM - Universidad de Morón</td>\n",
              "      <td>Developer</td>\n",
              "      <td>96870.0</td>\n",
              "      <td>76481.0</td>\n",
              "      <td>NaN</td>\n",
              "      <td>2</td>\n",
              "      <td>2</td>\n",
              "      <td>Un sueldo</td>\n",
              "      <td>Mix de las anteriores</td>\n",
              "      <td>No</td>\n",
              "      <td>0.0</td>\n",
              "      <td>0</td>\n",
              "      <td>Heterosexual</td>\n",
              "      <td>No</td>\n",
              "      <td>501-1000</td>\n",
              "      <td>Servicios / Consultoría de Software / Digital</td>\n",
              "      <td>Capacitaciones y/o cursos, Clases de gimnasia ...</td>\n",
              "      <td>NaN</td>\n",
              "    </tr>\n",
              "  </tbody>\n",
              "</table>\n",
              "</div>"
            ],
            "text/plain": [
              "     profile_gender  profile_age work_country  \\\n",
              "1381         Hombre           38    Argentina   \n",
              "3546         Hombre           29    Argentina   \n",
              "2344         Hombre           30    Argentina   \n",
              "\n",
              "                        work_province profile_studies_level  \\\n",
              "1381  Ciudad Autónoma de Buenos Aires              Posgrado   \n",
              "3546                         Santa Fe         Universitario   \n",
              "2344  Ciudad Autónoma de Buenos Aires         Universitario   \n",
              "\n",
              "     profile_studies_level_state                             profile_career  \\\n",
              "1381                    En curso                  Ingeniería en Informática   \n",
              "3546                    En curso  Licenciatura en Ciencias dela Computación   \n",
              "2344                  Incompleto                             Diseño Gráfico   \n",
              "\n",
              "                            profile_university                  work_role  \\\n",
              "1381  UAI - Universidad Abierta Interamericana  BI Analyst / Data Analyst   \n",
              "3546     UNR - Universidad Nacional de Rosario                  Developer   \n",
              "2344                 UM - Universidad de Morón                  Developer   \n",
              "\n",
              "      salary_monthly_BRUTO  salary_monthly_NETO salary_in_usd  \\\n",
              "1381               99500.0             105000.0           NaN   \n",
              "3546              130000.0              98000.0           NaN   \n",
              "2344               96870.0              76481.0           NaN   \n",
              "\n",
              "      salary_satisfaction  salary_comparison_last_semester  \\\n",
              "1381                    3                                3   \n",
              "3546                    3                                3   \n",
              "2344                    2                                2   \n",
              "\n",
              "           salary_has_bonus   salary_bonus_tied_to  \\\n",
              "1381                     No         No recibo bono   \n",
              "3546  De uno a tres sueldos  Mix de las anteriores   \n",
              "2344              Un sueldo  Mix de las anteriores   \n",
              "\n",
              "     salary_inflation_adjustment_2020  \\\n",
              "1381                              Uno   \n",
              "3546                              Uno   \n",
              "2344                               No   \n",
              "\n",
              "      salary_percentage_inflation_adjustment_2020  \\\n",
              "1381                                         13.0   \n",
              "3546                                         35.0   \n",
              "2344                                          0.0   \n",
              "\n",
              "      salary_month_last_inflation_adjustment profile_sexual_orientation  \\\n",
              "1381                                       4               Heterosexual   \n",
              "3546                                       4          ¿Qué les importa?   \n",
              "2344                                       0               Heterosexual   \n",
              "\n",
              "     profile_has_disabilities_hiring_difficulties company_employee_number  \\\n",
              "1381                                           No                 201-500   \n",
              "3546                                          NaN                  Nov-50   \n",
              "2344                                           No                501-1000   \n",
              "\n",
              "                              company_main_activity  \\\n",
              "1381  Servicios / Consultoría de Software / Digital   \n",
              "3546  Servicios / Consultoría de Software / Digital   \n",
              "2344  Servicios / Consultoría de Software / Digital   \n",
              "\n",
              "                                 company_extra_benefits  \\\n",
              "1381  Clases de idiomas, Descuentos varios (Mercado ...   \n",
              "3546  Capacitaciones y/o cursos, Clases de idiomas, ...   \n",
              "2344  Capacitaciones y/o cursos, Clases de gimnasia ...   \n",
              "\n",
              "     company_best_companies_city  \n",
              "1381                         NaN  \n",
              "3546                         NaN  \n",
              "2344                         NaN  "
            ]
          },
          "execution_count": 16,
          "metadata": {},
          "output_type": "execute_result"
        }
      ],
      "source": [
        "df.sample(3)"
      ]
    },
    {
      "cell_type": "code",
      "execution_count": 17,
      "metadata": {},
      "outputs": [
        {
          "data": {
            "text/plain": [
              "array(['Universitario', 'Secundario', 'Posgrado', 'Terciario',\n",
              "       'Doctorado', 'Posdoctorado', 'Primario'], dtype=object)"
            ]
          },
          "execution_count": 17,
          "metadata": {},
          "output_type": "execute_result"
        }
      ],
      "source": [
        "df.profile_studies_level.unique()"
      ]
    },
    {
      "cell_type": "code",
      "execution_count": 18,
      "metadata": {},
      "outputs": [
        {
          "name": "stdout",
          "output_type": "stream",
          "text": [
            "Requirement already satisfied: seaborn in c:\\users\\usuario\\appdata\\local\\programs\\python\\python312\\lib\\site-packages (0.13.0)\n",
            "Requirement already satisfied: numpy!=1.24.0,>=1.20 in c:\\users\\usuario\\appdata\\local\\programs\\python\\python312\\lib\\site-packages (from seaborn) (1.26.1)\n",
            "Requirement already satisfied: pandas>=1.2 in c:\\users\\usuario\\appdata\\local\\programs\\python\\python312\\lib\\site-packages (from seaborn) (2.1.3)\n",
            "Requirement already satisfied: matplotlib!=3.6.1,>=3.3 in c:\\users\\usuario\\appdata\\local\\programs\\python\\python312\\lib\\site-packages (from seaborn) (3.8.2)\n",
            "Requirement already satisfied: contourpy>=1.0.1 in c:\\users\\usuario\\appdata\\local\\programs\\python\\python312\\lib\\site-packages (from matplotlib!=3.6.1,>=3.3->seaborn) (1.2.0)\n",
            "Requirement already satisfied: cycler>=0.10 in c:\\users\\usuario\\appdata\\local\\programs\\python\\python312\\lib\\site-packages (from matplotlib!=3.6.1,>=3.3->seaborn) (0.12.1)\n",
            "Requirement already satisfied: fonttools>=4.22.0 in c:\\users\\usuario\\appdata\\local\\programs\\python\\python312\\lib\\site-packages (from matplotlib!=3.6.1,>=3.3->seaborn) (4.45.0)\n",
            "Requirement already satisfied: kiwisolver>=1.3.1 in c:\\users\\usuario\\appdata\\local\\programs\\python\\python312\\lib\\site-packages (from matplotlib!=3.6.1,>=3.3->seaborn) (1.4.5)\n",
            "Requirement already satisfied: packaging>=20.0 in c:\\users\\usuario\\appdata\\roaming\\python\\python312\\site-packages (from matplotlib!=3.6.1,>=3.3->seaborn) (23.2)\n",
            "Requirement already satisfied: pillow>=8 in c:\\users\\usuario\\appdata\\local\\programs\\python\\python312\\lib\\site-packages (from matplotlib!=3.6.1,>=3.3->seaborn) (10.1.0)\n",
            "Requirement already satisfied: pyparsing>=2.3.1 in c:\\users\\usuario\\appdata\\local\\programs\\python\\python312\\lib\\site-packages (from matplotlib!=3.6.1,>=3.3->seaborn) (3.1.1)\n",
            "Requirement already satisfied: python-dateutil>=2.7 in c:\\users\\usuario\\appdata\\roaming\\python\\python312\\site-packages (from matplotlib!=3.6.1,>=3.3->seaborn) (2.8.2)\n",
            "Requirement already satisfied: pytz>=2020.1 in c:\\users\\usuario\\appdata\\local\\programs\\python\\python312\\lib\\site-packages (from pandas>=1.2->seaborn) (2023.3.post1)\n",
            "Requirement already satisfied: tzdata>=2022.1 in c:\\users\\usuario\\appdata\\local\\programs\\python\\python312\\lib\\site-packages (from pandas>=1.2->seaborn) (2023.3)\n",
            "Requirement already satisfied: six>=1.5 in c:\\users\\usuario\\appdata\\roaming\\python\\python312\\site-packages (from python-dateutil>=2.7->matplotlib!=3.6.1,>=3.3->seaborn) (1.16.0)\n",
            "Note: you may need to restart the kernel to use updated packages.\n"
          ]
        },
        {
          "name": "stderr",
          "output_type": "stream",
          "text": [
            "\n",
            "[notice] A new release of pip is available: 23.2.1 -> 23.3.1\n",
            "[notice] To update, run: python.exe -m pip install --upgrade pip\n"
          ]
        }
      ],
      "source": [
        "pip install seaborn"
      ]
    },
    {
      "cell_type": "code",
      "execution_count": 19,
      "metadata": {},
      "outputs": [
        {
          "data": {
            "image/png": "[encoded data removed]",
            "text/plain": [
              "<Figure size 1000x300 with 1 Axes>"
            ]
          },
          "metadata": {},
          "output_type": "display_data"
        }
      ],
      "source": [
        "import seaborn as sns\n",
        "plt.figure(figsize=(10,3))\n",
        "\n",
        "sns.boxplot(x=df.salary_monthly_BRUTO)\n",
        "\n",
        "plt.ticklabel_format(style=\"plain\", axis=\"x\")\n",
        "plt.xticks(np.linspace(0, 3000000, 11))\n",
        "plt.show()"
      ]
    },
    {
      "cell_type": "code",
      "execution_count": 20,
      "metadata": {},
      "outputs": [
        {
          "data": {
            "image/png": "[encoded data removed]",
            "text/plain": [
              "<Figure size 1000x500 with 1 Axes>"
            ]
          },
          "metadata": {},
          "output_type": "display_data"
        }
      ],
      "source": [
        "plt.figure(figsize=(10,5))\n",
        "sns.boxenplot(df, x=\"salary_monthly_BRUTO\", y=\"profile_studies_level\")\n",
        "plt.xticks(np.linspace(0, 3000000, 11))\n",
        "plt.ticklabel_format(style=\"plain\", axis=\"x\")\n",
        "plt.show()"
      ]
    }
  ],
  "metadata": {
    "colab": {
      "provenance": []
    },
    "kernelspec": {
      "display_name": "Python 3",
      "name": "python3"
    },
    "language_info": {
      "codemirror_mode": {
        "name": "ipython",
        "version": 3
      },
      "file_extension": ".py",
      "mimetype": "text/x-python",
      "name": "python",
      "nbconvert_exporter": "python",
      "pygments_lexer": "ipython3",
      "version": "3.12.0"
    }
  },
  "nbformat": 4,
  "nbformat_minor": 0
}
