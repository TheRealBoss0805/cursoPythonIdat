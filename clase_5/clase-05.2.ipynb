{
  "cells": [
    {
      "attachments": {},
      "cell_type": "markdown",
      "metadata": {
        "id": "2i_yGkkUs3QA"
      },
      "source": [
        "# Medidas de Tendencia Central y Dispersión\n",
        "\n",
        "Hemos estado organizando y visualizando los datos de distintas maneras, pero ¿qué intuiciones podemos obtener?\n",
        "\n",
        "Las visualizaciones como histogramas o gráficos de conteo muestran la cantidad de veces que se observa cada valor en un conjunto de realizaciones de una variable aleatoria. Esto se denomina análisis de frecuencia, y es parte de la **estadística descriptiva**.\n",
        "\n",
        "El uso de visualizaciones nos limita a estimaciones, pero los datos crudos son demasiado como para intepretarlos en conjunto. Para eso, la estadística descriptiva provee también medidas de tendencia central y de dispersión, que resumen en un valor numérico propiedades de las realizaciones de la variable.\n"
      ]
    },
    {
      "cell_type": "code",
      "execution_count": null,
      "metadata": {},
      "outputs": [],
      "source": []
    },
    {
      "attachments": {},
      "cell_type": "markdown",
      "metadata": {
        "id": "QC-wJbBitzDH"
      },
      "source": [
        "## Medidas de tendencia central\n",
        "\n",
        "Cuando se quiere obtener un valor representativo de un conjunto de datos, o su centro, se utiliza una *medida de tendencia central*.\n",
        "\n",
        "Repasando, dada X una variable y un conjunto de realizaciones $x = \\{ x_1, x_2 ... \\}$ donde $x_i = X(\\omega)$ para algún $\\omega \\in \\Omega$, y $N = |x|$:\n",
        "\n",
        "* La **media muestral** (aritmética) o promedio se calcula como:\n",
        "\n",
        "$$ \\bar{x} = \\frac{1}{N} \\sum_i^N x_i $$\n",
        "\n",
        "* La **mediana** se calcula:\n",
        "  1. Ordenar las realizaciones tal que $x_j \\leq x_{j+1}$ \n",
        "  2. Si la cantidad de datos $N$ es impar, la mediana es el valor central: $median = x_{\\lfloor N / 2 \\rfloor +1}$\n",
        "  3. Si la cantidad de datos $N$ es par, la mediana es e promedio de los dos valores centrales: $median = \\frac{1}{2} (x_{ N / 2 } + x_{ (N / 2) +1})$\n",
        "\n",
        "* La **moda** son los valores con mayor frecuencia, es decir, los que más se repite.\n"
      ]
    },
    {
      "cell_type": "code",
      "execution_count": null,
      "metadata": {},
      "outputs": [],
      "source": []
    },
    {
      "attachments": {},
      "cell_type": "markdown",
      "metadata": {
        "id": "hDltOaTjnuFd"
      },
      "source": [
        "**¿Por qué las dos medidas son tan distintas?**\n",
        "\n",
        "Propiedades de la media:\n",
        "* Se puede interpretar como el *centro de masa* del histograma. Es decir, si el histograma fuera una figura de madera, el punto de equilibrio donde podemos apoyarlo y no se cae es la media.\n",
        "* Es muy sensible a valores extremos. "
      ]
    },
    {
      "cell_type": "code",
      "execution_count": null,
      "metadata": {},
      "outputs": [],
      "source": []
    },
    {
      "attachments": {},
      "cell_type": "markdown",
      "metadata": {
        "id": "Li3vLv3X8k7Z"
      },
      "source": [
        "### Medidas de dispersión\n",
        "\n",
        "Las medidas de dispersión vistas en el teórico son la desviación estándar, la varianza, y el coeficiente de variación. También permiten representar con un número alguna propiedad de los datos.\n",
        "\n",
        "Por ejemplo, comparemos el salario neto con el salario bruto. A priori, **¿deberíamos ver alguna diferencia?**"
      ]
    },
    {
      "cell_type": "code",
      "execution_count": null,
      "metadata": {},
      "outputs": [],
      "source": []
    },
    {
      "attachments": {},
      "cell_type": "markdown",
      "metadata": {},
      "source": [
        "### Varianza\n",
        "$$\\sigma^2 = \\frac{1}{N}\\sum_{i=1}^N(x_i - \\mu)^2$$\n",
        "\n",
        "La varianza es una medida de dispersión que representa la variabilidad de una serie de datos con respecto a su media."
      ]
    },
    {
      "cell_type": "code",
      "execution_count": null,
      "metadata": {},
      "outputs": [],
      "source": []
    },
    {
      "attachments": {},
      "cell_type": "markdown",
      "metadata": {},
      "source": [
        "### Desviación estándar\n",
        "\n",
        "$$\\sigma = \\sqrt{\\frac{1}{N}\\sum_{i=1}^N(x_i - \\mu)^2}$$\n",
        "\n",
        "La desviación estándar es un promedio de las desviaciones individuales de cada observación con respecto a la media de una distribución."
      ]
    },
    {
      "cell_type": "code",
      "execution_count": null,
      "metadata": {},
      "outputs": [],
      "source": []
    },
    {
      "attachments": {},
      "cell_type": "markdown",
      "metadata": {
        "id": "lVG6Ro-6ao3j"
      },
      "source": [
        "## Percentiles y gráficos de caja\n",
        "\n",
        "Los gráficos de caja son otra forma de representar la distribución de las realizaciones de una varaible numérica, de una forma más condensada que un histograma.\n",
        "\n",
        "Son muy útiles para comparar muchas distribuciones, pero sólo cuando son muy distintas entre ellas, ya que oscurecen algunas sutilezas."
      ]
    },
    {
      "cell_type": "code",
      "execution_count": null,
      "metadata": {},
      "outputs": [],
      "source": []
    }
  ],
  "metadata": {
    "colab": {
      "provenance": []
    },
    "kernelspec": {
      "display_name": "Python 3",
      "name": "python3"
    },
    "language_info": {
      "codemirror_mode": {
        "name": "ipython",
        "version": 3
      },
      "file_extension": ".py",
      "mimetype": "text/x-python",
      "name": "python",
      "nbconvert_exporter": "python",
      "pygments_lexer": "ipython3",
      "version": "3.11.4"
    }
  },
  "nbformat": 4,
  "nbformat_minor": 0
}
