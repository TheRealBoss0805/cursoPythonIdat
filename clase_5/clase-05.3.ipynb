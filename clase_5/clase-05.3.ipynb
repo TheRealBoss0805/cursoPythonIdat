{
 "cells": [
  {
   "attachments": {},
   "cell_type": "markdown",
   "metadata": {},
   "source": [
    "### Tratamiento de datos nulos y outliers\n",
    "#### Datos Nulos\n",
    "Los NaN (“Not a Number“) son valores vacíos no computables que debemos tratar en nuestros conjuntos de datos antes de trabajar con ellos."
   ]
  },
  {
   "cell_type": "code",
   "execution_count": null,
   "metadata": {},
   "outputs": [],
   "source": []
  },
  {
   "attachments": {},
   "cell_type": "markdown",
   "metadata": {},
   "source": [
    "### Outliers\n",
    "Son datos en un conjunto de datos que están distantes de todas las demás observaciones. Un punto de datos que se encuentra fuera de la distribución general del conjunto de datos.\n",
    "\n",
    "#### ¿Cuál es la razón por la que existe outliers en un conjunto de datos?\n",
    "\n",
    "1. Variabilidad en los datos\n",
    "2. Un error en la medición\n",
    "\n",
    "#### ¿Cuáles son los impactos de tener outliers en un conjunto de datos?\n",
    "\n",
    "1. Causa varios problemas durante nuestro análisis de datos\n",
    "2. Puede causar un impacto significativo en la media y la desviación estándar\n",
    "\n",
    "### Varias formas de encontrar el valor atípico.\n",
    "1. Diagrama de caja\n",
    "2. Usando el z-core\n",
    "3. Utilizando el rango intercuantílico"
   ]
  },
  {
   "attachments": {},
   "cell_type": "markdown",
   "metadata": {},
   "source": [
    "## Detecting outlier using Z score\n",
    "\n",
    "### Using Z score\n",
    "\n",
    "Formula for Z score = (Observation — Mean)/Standard Deviation\n",
    "\n",
    "z = (X — μ) / σ\n",
    "\n",
    "En general, un puntaje Z de -3.0 a 3.0 sugiere que una acción se negocia dentro de los tres estándares"
   ]
  },
  {
   "cell_type": "code",
   "execution_count": null,
   "metadata": {},
   "outputs": [],
   "source": []
  },
  {
   "attachments": {},
   "cell_type": "markdown",
   "metadata": {},
   "source": [
    "### Rango Intercuartil\n",
    "\n",
    "Valores del 75% al 25% en un conjunto de datos\n",
    "\n",
    "### Pasos\n",
    "1. Organizar los datos en orden creciente\n",
    "2. Calcular el primer (q1) y el tercer cuartil (q3)\n",
    "3. Encuentra el rango intercuartílico (q3-q1)\n",
    "4. Encuentra el límite inferior q1 - (iqr*1.5)\n",
    "5. Encuentra el límite superior q3 + (iqr*1.5)\n",
    "\n",
    "Cualquier cosa que se encuentre fuera del límite inferior y superior es un valor atípico"
   ]
  },
  {
   "cell_type": "code",
   "execution_count": null,
   "metadata": {},
   "outputs": [],
   "source": []
  }
 ],
 "metadata": {
  "kernelspec": {
   "display_name": "Python 3",
   "language": "python",
   "name": "python3"
  },
  "language_info": {
   "codemirror_mode": {
    "name": "ipython",
    "version": 3
   },
   "file_extension": ".py",
   "mimetype": "text/x-python",
   "name": "python",
   "nbconvert_exporter": "python",
   "pygments_lexer": "ipython3",
   "version": "3.11.4"
  }
 },
 "nbformat": 4,
 "nbformat_minor": 2
}
