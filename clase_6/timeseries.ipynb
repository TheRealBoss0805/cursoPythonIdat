{
 "cells": [
  {
   "cell_type": "code",
   "execution_count": 2,
   "metadata": {},
   "outputs": [
    {
     "data": {
      "text/html": [
       "<div>\n",
       "<style scoped>\n",
       "    .dataframe tbody tr th:only-of-type {\n",
       "        vertical-align: middle;\n",
       "    }\n",
       "\n",
       "    .dataframe tbody tr th {\n",
       "        vertical-align: top;\n",
       "    }\n",
       "\n",
       "    .dataframe thead th {\n",
       "        text-align: right;\n",
       "    }\n",
       "</style>\n",
       "<table border=\"1\" class=\"dataframe\">\n",
       "  <thead>\n",
       "    <tr style=\"text-align: right;\">\n",
       "      <th></th>\n",
       "      <th>v1</th>\n",
       "      <th>v2</th>\n",
       "      <th>v3</th>\n",
       "      <th>v4</th>\n",
       "      <th>v5</th>\n",
       "      <th>v6</th>\n",
       "      <th>v7</th>\n",
       "      <th>v8</th>\n",
       "      <th>v9</th>\n",
       "      <th>v10</th>\n",
       "      <th>v11</th>\n",
       "    </tr>\n",
       "  </thead>\n",
       "  <tbody>\n",
       "    <tr>\n",
       "      <th>0</th>\n",
       "      <td>-2.0</td>\n",
       "      <td>1.51</td>\n",
       "      <td>10.14</td>\n",
       "      <td>0.0</td>\n",
       "      <td>0.0</td>\n",
       "      <td>0.0</td>\n",
       "      <td>-15.78</td>\n",
       "      <td>-22.31</td>\n",
       "      <td>-11.70</td>\n",
       "      <td>-13.57</td>\n",
       "      <td>92.95</td>\n",
       "    </tr>\n",
       "    <tr>\n",
       "      <th>1</th>\n",
       "      <td>-2.0</td>\n",
       "      <td>1.51</td>\n",
       "      <td>10.13</td>\n",
       "      <td>0.0</td>\n",
       "      <td>0.0</td>\n",
       "      <td>0.0</td>\n",
       "      <td>-16.86</td>\n",
       "      <td>-23.38</td>\n",
       "      <td>-10.31</td>\n",
       "      <td>-13.57</td>\n",
       "      <td>92.95</td>\n",
       "    </tr>\n",
       "  </tbody>\n",
       "</table>\n",
       "</div>"
      ],
      "text/plain": [
       "    v1    v2     v3   v4   v5   v6     v7     v8     v9    v10    v11\n",
       "0 -2.0  1.51  10.14  0.0  0.0  0.0 -15.78 -22.31 -11.70 -13.57  92.95\n",
       "1 -2.0  1.51  10.13  0.0  0.0  0.0 -16.86 -23.38 -10.31 -13.57  92.95"
      ]
     },
     "execution_count": 2,
     "metadata": {},
     "output_type": "execute_result"
    }
   ],
   "source": [
    "import pandas as pd\n",
    "\n",
    "df = pd.read_csv(\"TimeSeries.csv\")\n",
    "df.head(2)"
   ]
  },
  {
   "cell_type": "code",
   "execution_count": 3,
   "metadata": {},
   "outputs": [
    {
     "name": "stdout",
     "output_type": "stream",
     "text": [
      "<class 'pandas.core.frame.DataFrame'>\n",
      "RangeIndex: 509632 entries, 0 to 509631\n",
      "Data columns (total 11 columns):\n",
      " #   Column  Non-Null Count   Dtype  \n",
      "---  ------  --------------   -----  \n",
      " 0   v1      509632 non-null  float64\n",
      " 1   v2      509632 non-null  float64\n",
      " 2   v3      509632 non-null  float64\n",
      " 3   v4      509632 non-null  float64\n",
      " 4   v5      509632 non-null  float64\n",
      " 5   v6      509632 non-null  float64\n",
      " 6   v7      509632 non-null  float64\n",
      " 7   v8      509632 non-null  float64\n",
      " 8   v9      509632 non-null  float64\n",
      " 9   v10     509632 non-null  float64\n",
      " 10  v11     509632 non-null  float64\n",
      "dtypes: float64(11)\n",
      "memory usage: 42.8 MB\n"
     ]
    }
   ],
   "source": [
    "df.info()"
   ]
  },
  {
   "cell_type": "code",
   "execution_count": 4,
   "metadata": {},
   "outputs": [
    {
     "data": {
      "text/plain": [
       "v1     0\n",
       "v2     0\n",
       "v3     0\n",
       "v4     0\n",
       "v5     0\n",
       "v6     0\n",
       "v7     0\n",
       "v8     0\n",
       "v9     0\n",
       "v10    0\n",
       "v11    0\n",
       "dtype: int64"
      ]
     },
     "execution_count": 4,
     "metadata": {},
     "output_type": "execute_result"
    }
   ],
   "source": [
    "df.isnull().sum()"
   ]
  },
  {
   "cell_type": "code",
   "execution_count": 5,
   "metadata": {},
   "outputs": [
    {
     "data": {
      "text/html": [
       "<div>\n",
       "<style scoped>\n",
       "    .dataframe tbody tr th:only-of-type {\n",
       "        vertical-align: middle;\n",
       "    }\n",
       "\n",
       "    .dataframe tbody tr th {\n",
       "        vertical-align: top;\n",
       "    }\n",
       "\n",
       "    .dataframe thead th {\n",
       "        text-align: right;\n",
       "    }\n",
       "</style>\n",
       "<table border=\"1\" class=\"dataframe\">\n",
       "  <thead>\n",
       "    <tr style=\"text-align: right;\">\n",
       "      <th></th>\n",
       "      <th>v1</th>\n",
       "      <th>v2</th>\n",
       "      <th>v3</th>\n",
       "      <th>v4</th>\n",
       "      <th>v5</th>\n",
       "      <th>v6</th>\n",
       "      <th>v7</th>\n",
       "      <th>v8</th>\n",
       "      <th>v9</th>\n",
       "      <th>v10</th>\n",
       "      <th>v11</th>\n",
       "      <th>v1_score</th>\n",
       "    </tr>\n",
       "  </thead>\n",
       "  <tbody>\n",
       "    <tr>\n",
       "      <th>0</th>\n",
       "      <td>-2.00</td>\n",
       "      <td>1.51</td>\n",
       "      <td>10.14</td>\n",
       "      <td>0.0</td>\n",
       "      <td>0.0</td>\n",
       "      <td>0.0</td>\n",
       "      <td>-15.78</td>\n",
       "      <td>-22.31</td>\n",
       "      <td>-11.70</td>\n",
       "      <td>-13.57</td>\n",
       "      <td>92.95</td>\n",
       "      <td>0.651128</td>\n",
       "    </tr>\n",
       "    <tr>\n",
       "      <th>1</th>\n",
       "      <td>-2.00</td>\n",
       "      <td>1.51</td>\n",
       "      <td>10.13</td>\n",
       "      <td>0.0</td>\n",
       "      <td>0.0</td>\n",
       "      <td>0.0</td>\n",
       "      <td>-16.86</td>\n",
       "      <td>-23.38</td>\n",
       "      <td>-10.31</td>\n",
       "      <td>-13.57</td>\n",
       "      <td>92.95</td>\n",
       "      <td>0.651128</td>\n",
       "    </tr>\n",
       "    <tr>\n",
       "      <th>2</th>\n",
       "      <td>-2.00</td>\n",
       "      <td>1.51</td>\n",
       "      <td>10.13</td>\n",
       "      <td>0.0</td>\n",
       "      <td>0.0</td>\n",
       "      <td>0.0</td>\n",
       "      <td>-16.86</td>\n",
       "      <td>-23.38</td>\n",
       "      <td>-10.31</td>\n",
       "      <td>-13.57</td>\n",
       "      <td>92.95</td>\n",
       "      <td>0.651128</td>\n",
       "    </tr>\n",
       "    <tr>\n",
       "      <th>3</th>\n",
       "      <td>-1.99</td>\n",
       "      <td>1.51</td>\n",
       "      <td>10.17</td>\n",
       "      <td>0.0</td>\n",
       "      <td>0.0</td>\n",
       "      <td>0.0</td>\n",
       "      <td>-16.86</td>\n",
       "      <td>-23.38</td>\n",
       "      <td>-10.31</td>\n",
       "      <td>-13.57</td>\n",
       "      <td>92.95</td>\n",
       "      <td>0.653320</td>\n",
       "    </tr>\n",
       "    <tr>\n",
       "      <th>4</th>\n",
       "      <td>-1.99</td>\n",
       "      <td>1.51</td>\n",
       "      <td>10.17</td>\n",
       "      <td>0.0</td>\n",
       "      <td>0.0</td>\n",
       "      <td>0.0</td>\n",
       "      <td>-16.86</td>\n",
       "      <td>-23.38</td>\n",
       "      <td>-10.31</td>\n",
       "      <td>-13.57</td>\n",
       "      <td>92.95</td>\n",
       "      <td>0.653320</td>\n",
       "    </tr>\n",
       "    <tr>\n",
       "      <th>...</th>\n",
       "      <td>...</td>\n",
       "      <td>...</td>\n",
       "      <td>...</td>\n",
       "      <td>...</td>\n",
       "      <td>...</td>\n",
       "      <td>...</td>\n",
       "      <td>...</td>\n",
       "      <td>...</td>\n",
       "      <td>...</td>\n",
       "      <td>...</td>\n",
       "      <td>...</td>\n",
       "      <td>...</td>\n",
       "    </tr>\n",
       "    <tr>\n",
       "      <th>509627</th>\n",
       "      <td>-8.27</td>\n",
       "      <td>-11.98</td>\n",
       "      <td>-9.35</td>\n",
       "      <td>0.0</td>\n",
       "      <td>0.0</td>\n",
       "      <td>0.0</td>\n",
       "      <td>30.00</td>\n",
       "      <td>8.24</td>\n",
       "      <td>13.90</td>\n",
       "      <td>-7.06</td>\n",
       "      <td>-32.33</td>\n",
       "      <td>-0.723365</td>\n",
       "    </tr>\n",
       "    <tr>\n",
       "      <th>509628</th>\n",
       "      <td>-8.27</td>\n",
       "      <td>-12.00</td>\n",
       "      <td>-9.41</td>\n",
       "      <td>0.0</td>\n",
       "      <td>0.0</td>\n",
       "      <td>0.0</td>\n",
       "      <td>30.00</td>\n",
       "      <td>8.24</td>\n",
       "      <td>13.90</td>\n",
       "      <td>-7.07</td>\n",
       "      <td>-32.34</td>\n",
       "      <td>-0.723365</td>\n",
       "    </tr>\n",
       "    <tr>\n",
       "      <th>509629</th>\n",
       "      <td>-8.25</td>\n",
       "      <td>-11.98</td>\n",
       "      <td>-9.40</td>\n",
       "      <td>0.0</td>\n",
       "      <td>0.0</td>\n",
       "      <td>0.0</td>\n",
       "      <td>30.00</td>\n",
       "      <td>8.24</td>\n",
       "      <td>13.90</td>\n",
       "      <td>-7.08</td>\n",
       "      <td>-32.35</td>\n",
       "      <td>-0.718980</td>\n",
       "    </tr>\n",
       "    <tr>\n",
       "      <th>509630</th>\n",
       "      <td>-8.27</td>\n",
       "      <td>-12.00</td>\n",
       "      <td>-9.41</td>\n",
       "      <td>0.0</td>\n",
       "      <td>0.0</td>\n",
       "      <td>0.0</td>\n",
       "      <td>30.00</td>\n",
       "      <td>8.24</td>\n",
       "      <td>13.90</td>\n",
       "      <td>-7.09</td>\n",
       "      <td>-32.36</td>\n",
       "      <td>-0.723365</td>\n",
       "    </tr>\n",
       "    <tr>\n",
       "      <th>509631</th>\n",
       "      <td>-8.25</td>\n",
       "      <td>-11.98</td>\n",
       "      <td>-9.40</td>\n",
       "      <td>0.0</td>\n",
       "      <td>0.0</td>\n",
       "      <td>0.0</td>\n",
       "      <td>30.00</td>\n",
       "      <td>8.24</td>\n",
       "      <td>13.90</td>\n",
       "      <td>-7.10</td>\n",
       "      <td>-32.37</td>\n",
       "      <td>-0.718980</td>\n",
       "    </tr>\n",
       "  </tbody>\n",
       "</table>\n",
       "<p>507838 rows × 12 columns</p>\n",
       "</div>"
      ],
      "text/plain": [
       "          v1     v2     v3   v4   v5   v6     v7     v8     v9    v10    v11  \\\n",
       "0      -2.00   1.51  10.14  0.0  0.0  0.0 -15.78 -22.31 -11.70 -13.57  92.95   \n",
       "1      -2.00   1.51  10.13  0.0  0.0  0.0 -16.86 -23.38 -10.31 -13.57  92.95   \n",
       "2      -2.00   1.51  10.13  0.0  0.0  0.0 -16.86 -23.38 -10.31 -13.57  92.95   \n",
       "3      -1.99   1.51  10.17  0.0  0.0  0.0 -16.86 -23.38 -10.31 -13.57  92.95   \n",
       "4      -1.99   1.51  10.17  0.0  0.0  0.0 -16.86 -23.38 -10.31 -13.57  92.95   \n",
       "...      ...    ...    ...  ...  ...  ...    ...    ...    ...    ...    ...   \n",
       "509627 -8.27 -11.98  -9.35  0.0  0.0  0.0  30.00   8.24  13.90  -7.06 -32.33   \n",
       "509628 -8.27 -12.00  -9.41  0.0  0.0  0.0  30.00   8.24  13.90  -7.07 -32.34   \n",
       "509629 -8.25 -11.98  -9.40  0.0  0.0  0.0  30.00   8.24  13.90  -7.08 -32.35   \n",
       "509630 -8.27 -12.00  -9.41  0.0  0.0  0.0  30.00   8.24  13.90  -7.09 -32.36   \n",
       "509631 -8.25 -11.98  -9.40  0.0  0.0  0.0  30.00   8.24  13.90  -7.10 -32.37   \n",
       "\n",
       "        v1_score  \n",
       "0       0.651128  \n",
       "1       0.651128  \n",
       "2       0.651128  \n",
       "3       0.653320  \n",
       "4       0.653320  \n",
       "...          ...  \n",
       "509627 -0.723365  \n",
       "509628 -0.723365  \n",
       "509629 -0.718980  \n",
       "509630 -0.723365  \n",
       "509631 -0.718980  \n",
       "\n",
       "[507838 rows x 12 columns]"
      ]
     },
     "execution_count": 5,
     "metadata": {},
     "output_type": "execute_result"
    }
   ],
   "source": [
    "from scipy import stats\n",
    "\n",
    "df[\"v1_score\"] = stats.zscore(df.v1)\n",
    "df[(df[\"v1_score\"]>=-3) & (df[\"v1_score\"]<=3)]"
   ]
  },
  {
   "cell_type": "code",
   "execution_count": 6,
   "metadata": {},
   "outputs": [
    {
     "name": "stdout",
     "output_type": "stream",
     "text": [
      "Note: you may need to restart the kernel to use updated packages.\n",
      "Requirement already satisfied: scipy in c:\\users\\usuario\\appdata\\local\\programs\\python\\python312\\lib\\site-packages (1.11.4)\n",
      "Requirement already satisfied: numpy<1.28.0,>=1.21.6 in c:\\users\\usuario\\appdata\\local\\programs\\python\\python312\\lib\\site-packages (from scipy) (1.26.1)\n"
     ]
    },
    {
     "name": "stderr",
     "output_type": "stream",
     "text": [
      "\n",
      "[notice] A new release of pip is available: 23.2.1 -> 23.3.1\n",
      "[notice] To update, run: python.exe -m pip install --upgrade pip\n"
     ]
    }
   ],
   "source": [
    "pip install scipy"
   ]
  },
  {
   "cell_type": "code",
   "execution_count": 7,
   "metadata": {},
   "outputs": [
    {
     "data": {
      "image/png": "[encoded data removed]",
      "text/plain": [
       "<Figure size 640x480 with 1 Axes>"
      ]
     },
     "metadata": {},
     "output_type": "display_data"
    }
   ],
   "source": [
    "import matplotlib.pyplot as plt\n",
    "import seaborn as sns\n",
    "\n",
    "sns.histplot(x=df.v1)\n",
    "\n",
    "plt.show()"
   ]
  },
  {
   "cell_type": "code",
   "execution_count": 13,
   "metadata": {},
   "outputs": [
    {
     "data": {
      "image/png": "[encoded data removed]",
      "text/plain": [
       "<Figure size 640x480 with 1 Axes>"
      ]
     },
     "metadata": {},
     "output_type": "display_data"
    }
   ],
   "source": [
    "plt.hist(df.v1_score, bins=50)\n",
    "\n",
    "plt.show()"
   ]
  }
 ],
 "metadata": {
  "kernelspec": {
   "display_name": "Python 3",
   "language": "python",
   "name": "python3"
  },
  "language_info": {
   "codemirror_mode": {
    "name": "ipython",
    "version": 3
   },
   "file_extension": ".py",
   "mimetype": "text/x-python",
   "name": "python",
   "nbconvert_exporter": "python",
   "pygments_lexer": "ipython3",
   "version": "3.12.0"
  }
 },
 "nbformat": 4,
 "nbformat_minor": 2
}
