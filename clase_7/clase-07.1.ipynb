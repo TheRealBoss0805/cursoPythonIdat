{
 "cells": [
  {
   "cell_type": "code",
   "execution_count": null,
   "id": "6d98cb18",
   "metadata": {},
   "outputs": [],
   "source": []
  },
  {
   "attachments": {},
   "cell_type": "markdown",
   "id": "9256cc29",
   "metadata": {},
   "source": [
    "# Regresión\n",
    "\n",
    "Regresión es el proceso de obtener los **parámetros** de un **modelo** para ajustar una predicción. Tenemos variables independientes x como entradas del modelo para generar predicciones y. Para aprendizaje automático (machine learning), el objetivo es minimizar una función de pérdida ajustando los parámetros del modelo. Una función de pérdida común es la suma de los errores cuadrados entre los valores predichos."
   ]
  },
  {
   "attachments": {},
   "cell_type": "markdown",
   "id": "ff5368fb",
   "metadata": {},
   "source": [
    "### Regresión Lineal\n",
    "![](https://encrypted-tbn0.gstatic.com/images?q=tbn:ANd9GcRmuaxMwCvvDfVlYS8GZ9P3F80wesB1FofBOQ&usqp=CAU)\n",
    "\n",
    "\n",
    "La regresión lineal es un método estadístico utilizado para modelar la relación entre una variable dependiente y una variable independiente. \n",
    "La regresión lineal se puede utilizar tanto para la regresión lineal simple (una variable independiente) como para la regresión lineal múltiple (más de una variable independiente).\n",
    "\n",
    "\n",
    "##### Regresión Lineal Simple\n",
    "El objetivo de la regresión lineal es encontrar la línea que mejor se ajuste a través de un conjunto de puntos de datos, donde la línea está definida por una ecuación de la forma y = mx b, donde y es la variable dependiente, x es la variable independiente, m es la pendiente de la línea, y b es la intersección con el eje y.\n",
    "\n",
    "\\begin{align}\n",
    "y = w  x + b \\\\\n",
    "\\end{align}\n"
   ]
  },
  {
   "attachments": {},
   "cell_type": "markdown",
   "id": "81fc22cb-cdab-4041-b430-222e3773f825",
   "metadata": {},
   "source": [
    "#### Predicción del precio de las casas con regresión lineal SIMPLE"
   ]
  },
  {
   "attachments": {},
   "cell_type": "markdown",
   "id": "4c5c8f71-3153-418c-90c7-66d133f157b4",
   "metadata": {
    "tags": []
   },
   "source": [
    "#### 1. Carga de datos y análisis de dataset"
   ]
  },
  {
   "cell_type": "code",
   "execution_count": null,
   "id": "123aff43",
   "metadata": {},
   "outputs": [],
   "source": []
  },
  {
   "attachments": {},
   "cell_type": "markdown",
   "id": "f9e1aba9",
   "metadata": {},
   "source": [
    "### Errores del modelo\n",
    "\n",
    "\\begin{align}\n",
    "\\frac{1}{N}\\sum_{i=1}^N(\\hat{y_i} - y_i)^2 \\\\\n",
    "\\end{align}\n",
    "\n",
    "\n",
    "\\begin{align}\n",
    "\\hat{y_i} = \\hat{w}  x_i + \\hat{b} \\\\\n",
    "\\end{align}\n"
   ]
  },
  {
   "cell_type": "code",
   "execution_count": null,
   "id": "7ef695c4",
   "metadata": {},
   "outputs": [],
   "source": []
  },
  {
   "cell_type": "markdown",
   "id": "80b8de93",
   "metadata": {},
   "source": [
    "### Regresión Lineal Multiple\n",
    "La regresión lineal múltiple trata de ajustar modelos lineales o linealizables entre una variable dependiente y más de una variables independientes.\n",
    "\n",
    "\\begin{align}\n",
    "y = \\beta_0 + \\beta_1 x_1 + \\beta_2 x_2 + \\beta_3 x_3 +... \\\\\n",
    "\\end{align}\n",
    "\n",
    "x1, x2, x3,… son las variables independientes.\n",
    "\n",
    "b0 = intercepto.\n",
    "\n",
    "b1, b2, b3,… son los coeficientes."
   ]
  },
  {
   "cell_type": "code",
   "execution_count": null,
   "id": "5a61fa95",
   "metadata": {},
   "outputs": [],
   "source": []
  },
  {
   "attachments": {},
   "cell_type": "markdown",
   "id": "f0fb5b64",
   "metadata": {},
   "source": [
    "### Regresión Logística\n",
    "\n",
    "$$ f_{w,b}\\left(x\\right)=\\frac{1}{1+e^{-\\left(wx+b\\right)}}$$\n",
    "\n",
    "La regresión logística es una técnica de análisis de datos que utiliza las matemáticas para encontrar las relaciones entre dos factores de datos. Luego, utiliza esta relación para predecir el valor de uno de esos factores basándose en el otro. Normalmente, la predicción tiene un número finito de resultados, como un sí o un no.\n"
   ]
  },
  {
   "attachments": {},
   "cell_type": "markdown",
   "id": "175d9c62",
   "metadata": {},
   "source": [
    "#### Cargar los datos de diabetes.csv\n",
    "Variables de interés:\n",
    "* BMI: Índice de masa corporal. Es una métrica o KPI basada en el peso y la altura de cada persona. Un BMI muy alto puede ser indicativo de tener diabetes\n",
    "* Outcome: Si la persona tiene diabetes o no"
   ]
  },
  {
   "cell_type": "code",
   "execution_count": null,
   "id": "9ce5280c",
   "metadata": {},
   "outputs": [],
   "source": []
  }
 ],
 "metadata": {
  "kernelspec": {
   "display_name": "Python 3 (ipykernel)",
   "language": "python",
   "name": "python3"
  },
  "language_info": {
   "codemirror_mode": {
    "name": "ipython",
    "version": 3
   },
   "file_extension": ".py",
   "mimetype": "text/x-python",
   "name": "python",
   "nbconvert_exporter": "python",
   "pygments_lexer": "ipython3",
   "version": "3.11.4"
  }
 },
 "nbformat": 4,
 "nbformat_minor": 5
}
